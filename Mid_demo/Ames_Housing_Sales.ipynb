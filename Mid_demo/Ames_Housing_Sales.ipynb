{
 "cells": [
  {
   "cell_type": "markdown",
   "metadata": {},
   "source": [
    "# Regression Project"
   ]
  },
  {
   "cell_type": "markdown",
   "metadata": {},
   "source": [
    "## File IO\n",
    "\n",
    "Only File IO...\n",
    "\n",
    "You may not change this code."
   ]
  },
  {
   "cell_type": "code",
   "execution_count": 1,
   "metadata": {},
   "outputs": [],
   "source": [
    "from tkinter.filedialog import askopenfilename\n",
    "import pandas as pd\n",
    "import tkinter\n",
    "import os\n",
    "\n",
    "tk_window = tkinter.Tk()\n",
    "cwd = os.getcwd()\n",
    "\n",
    "tr_data = pd.read_csv(askopenfilename(title='Choose your training data'))\n",
    "\n",
    "tr_ans = pd.read_csv(askopenfilename(title='Choose your training answer'))\n",
    "\n",
    "tr_ans = tr_ans.iloc[:, 0]\n",
    "\n",
    "ts_data = pd.read_csv(askopenfilename(title='Choose your test data'))\n",
    "\n",
    "tk_window.destroy()\n",
    "\n"
   ]
  },
  {
   "cell_type": "markdown",
   "metadata": {},
   "source": [
    "## Predict Algorithm\n",
    "\n",
    "Type your source code (Champion Algorithm)"
   ]
  },
  {
   "cell_type": "code",
   "execution_count": 3,
   "metadata": {},
   "outputs": [
    {
     "name": "stderr",
     "output_type": "stream",
     "text": [
      "C:\\Users\\caucse\\Anaconda3\\lib\\site-packages\\ipykernel_launcher.py:8: DeprecationWarning: time.clock has been deprecated in Python 3.3 and will be removed from Python 3.8: use time.perf_counter or time.process_time instead\n",
      "  \n"
     ]
    },
    {
     "name": "stdout",
     "output_type": "stream",
     "text": [
      "GradientBoostingRegressor(alpha=0.9, criterion='friedman_mse', init=None,\n",
      "             learning_rate=0.00785, loss='ls', max_depth=5,\n",
      "             max_features=None, max_leaf_nodes=None,\n",
      "             min_impurity_decrease=0.0, min_impurity_split=None,\n",
      "             min_samples_leaf=1, min_samples_split=3,\n",
      "             min_weight_fraction_leaf=0.0, n_estimators=1000,\n",
      "             presort='auto', random_state=None, subsample=1.0, verbose=0,\n",
      "             warm_start=False)\n",
      "3.316829306999999\n"
     ]
    },
    {
     "name": "stderr",
     "output_type": "stream",
     "text": [
      "C:\\Users\\caucse\\Anaconda3\\lib\\site-packages\\ipykernel_launcher.py:90: DeprecationWarning: time.clock has been deprecated in Python 3.3 and will be removed from Python 3.8: use time.perf_counter or time.process_time instead\n"
     ]
    }
   ],
   "source": [
    "import time\n",
    "import numpy as np\n",
    "import pandas as pd\n",
    "from sklearn.metrics import mean_squared_error\n",
    "from sklearn.ensemble import GradientBoostingRegressor\n",
    "def rmse(ytrue, ypredicted):\n",
    "    return np.sqrt(mean_squared_error(ytrue, ypredicted))\n",
    "start = time.clock()\n",
    "# Data composition\n",
    "tr_data[\"BsmtBath\"] = tr_data[\"BsmtFullBath\"] + 0.5*tr_data[\"BsmtHalfBath\"]\n",
    "tr_data[\"Bath\"] = tr_data[\"FullBath\"] + 0.5*tr_data[\"HalfBath\"]\n",
    "ts_data[\"BsmtBath\"] = ts_data[\"BsmtFullBath\"] + 0.5*ts_data[\"BsmtHalfBath\"]\n",
    "ts_data[\"Bath\"] = ts_data[\"FullBath\"] + 0.5*ts_data[\"HalfBath\"]\n",
    "\n",
    "# Data Mapping\n",
    "tr_data[\"bs\"] = tr_data[\"BsmtQual\"].map({\"Ex\":4, \"Gd\":3, \"TA\":2, \"Fa\":1, \"None\":0})\n",
    "tr_data[\"ec\"] = tr_data[\"ExterCond\"].map({\"Ex\":4, \"Gd\":3, \"TA\":2, \"Fa\":1, \"None\":0})\n",
    "tr_data[\"eq\"] = tr_data[\"ExterQual\"].map({\"Ex\":4, \"Gd\":3, \"TA\":2, \"Fa\":1, \"None\":0})\n",
    "tr_data[\"kq\"] = tr_data[\"KitchenQual\"].map({\"Ex\":4, \"Gd\":3, \"TA\":2, \"Fa\":1, \"None\":0})\n",
    "tr_data[\"hq\"]=tr_data[\"HeatingQC\"].map({\"Ex\":4, \"Gd\":3, \"TA\":2, \"Fa\":1, \"Po\":0})\n",
    "tr_data[\"gq\"]=tr_data[\"GarageQual\"].map({\"Ex\":4, \"Gd\":3, \"TA\":2, \"Fa\":1, \"Po\":0})\n",
    "tr_data[\"fq\"]=tr_data[\"FireplaceQu\"].map({\"Ex\":4, \"Gd\":3, \"TA\":2, \"Fa\":1, \"Po\":0, \"None\":0})\n",
    "tr_data[\"bc\"]=tr_data[\"BsmtCond\"].map({\"Ex\":4, \"Gd\":3, \"TA\":2, \"Fa\":1, \"Po\":0, \"None\":0})\n",
    "tr_data[\"be\"]=tr_data[\"BsmtExposure\"].map({\"Ex\":4, \"Gd\":3, \"Mn\":2, \"Av\":1, \"None\":0,\"No\":0})\n",
    "tr_data[\"ec\"]=tr_data[\"Electrical\"].map({\"SBrkr\":4, \"FuseA\":3, \"FuseF\":2, \"FuseP\":1, \"Mix\":0})\n",
    "tr_data[\"ca\"]=tr_data[\"CentralAir\"].map({\"Y\":1, \"N\":0})\n",
    "tr_data[\"pd\"]=tr_data[\"PavedDrive\"].map({\"Y\":2, \"P\":1, \"N\":0})\n",
    "tr_data[\"f\"]=tr_data[\"Foundation\"].map({\"BrkTil\":5, \"CBlock\":4, \"PConc\":3, \"Slab\":2, \"Stone\":1, \"Wood\":0})\n",
    "tr_data[\"lc\"]=tr_data[\"LandContour\"].map({\"Bnk\":3, \"Lvl\":2, \"Low\":1, \"HLS\":0})\n",
    "tr_data[\"h\"]=tr_data[\"Heating\"].map({\"Wall\":5, \"OthW\":4, \"Grav\":3, \"GasW\":2, \"GasA\":1, \"Floor\":0})\n",
    "#tr_data[\"gf\"]=tr_data[\"GarageFinish\"].map({\"Fin\":2, \"RFn\":1, \"Unf\":0})\n",
    "#tr_data[\"mvt\"]=tr_data[\"MasVnrType\"].map({\"BrkFace\":3, \"BrkCmn\":2, \"Stone\":1, \"None\":0})\n",
    "#tr_data[\"gt\"]=tr_data[\"GarageType\"].map({\"Detchd\":5, \"CarPort\":4, \"BuiltIn\":3, \"Basment\":2, \"Attchd\":1, \"2Types\":0})\n",
    "\n",
    "\n",
    "ts_data[\"bs\"]=ts_data[\"BsmtQual\"].map({\"Ex\":4, \"Gd\":3, \"TA\":2, \"Fa\":1, \"None\":0})\n",
    "ts_data[\"ec\"]=ts_data[\"ExterCond\"].map({\"Ex\":4, \"Gd\":3, \"TA\":2, \"Fa\":1, \"None\":0})\n",
    "ts_data[\"eq\"]=ts_data[\"ExterQual\"].map({\"Ex\":4, \"Gd\":3, \"TA\":2, \"Fa\":1, \"None\":0})\n",
    "ts_data[\"kq\"]=ts_data[\"KitchenQual\"].map({\"Ex\":4, \"Gd\":3, \"TA\":2, \"Fa\":1, \"None\":0})\n",
    "ts_data[\"hq\"]=ts_data[\"HeatingQC\"].map({\"Ex\":4, \"Gd\":3, \"TA\":2, \"Fa\":1, \"Po\":0})\n",
    "ts_data[\"gq\"]=ts_data[\"GarageQual\"].map({\"Ex\":4, \"Gd\":3, \"TA\":2, \"Fa\":1, \"Po\":0})\n",
    "ts_data[\"fq\"]=ts_data[\"FireplaceQu\"].map({\"Ex\":4, \"Gd\":3, \"TA\":2, \"Fa\":1, \"Po\":0, \"None\":0})\n",
    "ts_data[\"bc\"]=ts_data[\"BsmtCond\"].map({\"Ex\":4, \"Gd\":3, \"TA\":2, \"Fa\":1, \"Po\":0, \"None\":0})\n",
    "ts_data[\"be\"]=ts_data[\"BsmtExposure\"].map({\"Ex\":4, \"Gd\":3, \"Mn\":2, \"Av\":1, \"No\":0, \"None\":0})\n",
    "ts_data[\"ec\"]=ts_data[\"Electrical\"].map({\"SBrkr\":4, \"FuseA\":3, \"FuseF\":2, \"FuseP\":1, \"Mix\":0})\n",
    "ts_data[\"ca\"]=ts_data[\"CentralAir\"].map({\"Y\":1, \"N\":0})\n",
    "ts_data[\"pd\"]=ts_data[\"PavedDrive\"].map({\"Y\":2, \"P\":1, \"N\":0})\n",
    "ts_data[\"f\"]=ts_data[\"Foundation\"].map({\"BrkTil\":5, \"CBlock\":4, \"PConc\":3, \"Slab\":2, \"Stone\":1, \"Wood\":0})\n",
    "ts_data[\"lc\"]=ts_data[\"LandContour\"].map({\"Bnk\":3, \"Lvl\":2, \"Low\":1, \"HLS\":0})\n",
    "ts_data[\"h\"]=ts_data[\"Heating\"].map({\"Wall\":5, \"OthW\":4, \"Grav\":3, \"GasW\":2, \"GasA\":1, \"Floor\":0})\n",
    "#ts_data[\"gf\"]=ts_data[\"GarageFinish\"].map({\"Fin\":2, \"RFn\":1, \"Unf\":0})\n",
    "#ts_data[\"mvt\"]=ts_data[\"MasVnrType\"].map({\"BrkFace\":3, \"BrkCmn\":2, \"Stone\":1, \"None\":0})\n",
    "#ts_data[\"gt\"]=ts_data[\"GarageType\"].map({\"Detchd\":5, \"CarPort\":4, \"BuiltIn\":3, \"Basment\":2, \"Attchd\":1, \"2Types\":0})\n",
    "\n",
    "# Data Split\n",
    "tr_data[\"Privary\"] = (tr_data[\"Fence\"]==\"GdPrv\")*2 +  (tr_data[\"Fence\"]==\"MnPrv\")*1\n",
    "tr_data[\"Wood\"] = (tr_data[\"Fence\"]==\"GdWo\")*2 +  (tr_data[\"Fence\"]==\"MnWw\")*1\n",
    "\n",
    "ts_data[\"Privary\"] = (ts_data[\"Fence\"]==\"GdPrv\")*2 +  (ts_data[\"Fence\"]==\"MnPrv\")*1\n",
    "ts_data[\"Wood\"] = (ts_data[\"Fence\"]==\"GdWo\")*2 +  (ts_data[\"Fence\"]==\"MnWw\")*1\n",
    "\n",
    "mask = tr_data.dtypes == np.object\n",
    "categorical_cols = tr_data.columns[mask]\n",
    "# Determine how many extra columns would be created\n",
    "num_ohc_cols = (tr_data[categorical_cols]\n",
    "                .apply(lambda x: x.nunique())\n",
    "                .sort_values(ascending=False))\n",
    "# Remove the string columns from the dataframe\n",
    "tr_data = tr_data.drop(num_ohc_cols.index, axis=1)\n",
    "ts_data = ts_data.drop(num_ohc_cols.index, axis=1)\n",
    "\n",
    "tr_data = tr_data.drop(\"BsmtFullBath\", axis=1)\n",
    "tr_data = tr_data.drop(\"BsmtHalfBath\", axis=1)\n",
    "tr_data = tr_data.drop(\"FullBath\", axis=1)\n",
    "tr_data = tr_data.drop(\"HalfBath\", axis=1)\n",
    "tr_data = tr_data.drop(\"MiscVal\", axis=1)\n",
    "\n",
    "ts_data = ts_data.drop(\"BsmtFullBath\", axis=1)\n",
    "ts_data = ts_data.drop(\"BsmtHalfBath\", axis=1)\n",
    "ts_data = ts_data.drop(\"FullBath\", axis=1)\n",
    "ts_data = ts_data.drop(\"HalfBath\", axis=1)\n",
    "ts_data = ts_data.drop(\"MiscVal\", axis=1)\n",
    "gbr = GradientBoostingRegressor(n_estimators=1000, max_depth=5,min_samples_split=3,learning_rate=0.00785)\n",
    "gbr = gbr.fit(tr_data, tr_ans)\n",
    "y_pred = gbr.predict(ts_data)\n",
    "print(gbr)\n",
    "\n",
    "pred_df = pd.DataFrame(y_pred)\n",
    "pred_df.to_csv(\"data\\\\Ames_Housing_Sales_output.csv\", mode='w')\n",
    "print(time.clock()-start)"
   ]
  },
  {
   "cell_type": "markdown",
   "metadata": {},
   "source": [
    "## Check Accuracy\n",
    "\n",
    "Only for check accuracy"
   ]
  },
  {
   "cell_type": "code",
   "execution_count": 4,
   "metadata": {},
   "outputs": [
    {
     "name": "stdout",
     "output_type": "stream",
     "text": [
      "21190.70198363185\n"
     ]
    }
   ],
   "source": [
    "from sklearn.metrics import mean_squared_error\n",
    "\n",
    "\n",
    "def rmse(ytrue, ypredicted):\n",
    "    return np.sqrt(mean_squared_error(ytrue, ypredicted))\n",
    "\n",
    "tk_window = tkinter.Tk()\n",
    "cwd = os.getcwd()\n",
    "ts_ans = pd.read_csv(askopenfilename(title='Choose your test answer'))\n",
    "ts_ans = ts_ans.iloc[:, 0]\n",
    "tk_window.destroy()\n",
    "\n",
    "print(rmse(ts_ans, y_pred))"
   ]
  },
  {
   "cell_type": "code",
   "execution_count": null,
   "metadata": {},
   "outputs": [],
   "source": []
  }
 ],
 "metadata": {
  "kernelspec": {
   "display_name": "Python 3",
   "language": "python",
   "name": "python3"
  },
  "language_info": {
   "codemirror_mode": {
    "name": "ipython",
    "version": 3
   },
   "file_extension": ".py",
   "mimetype": "text/x-python",
   "name": "python",
   "nbconvert_exporter": "python",
   "pygments_lexer": "ipython3",
   "version": "3.7.0"
  }
 },
 "nbformat": 4,
 "nbformat_minor": 2
}
