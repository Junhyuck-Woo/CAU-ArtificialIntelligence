{
 "cells": [
  {
   "cell_type": "markdown",
   "metadata": {},
   "source": [
    "# Classification Project"
   ]
  },
  {
   "cell_type": "markdown",
   "metadata": {},
   "source": [
    "## File IO\n",
    "\n",
    "Only File IO...\n",
    "\n",
    "You may not change this code."
   ]
  },
  {
   "cell_type": "code",
   "execution_count": 1,
   "metadata": {},
   "outputs": [],
   "source": [
    "from tkinter.filedialog import askopenfilename\n",
    "import pandas as pd\n",
    "import tkinter\n",
    "import os\n",
    "\n",
    "tk_window = tkinter.Tk()\n",
    "cwd = os.getcwd()\n",
    "\n",
    "tr_data = pd.read_csv(askopenfilename(title='Choose your training data'))\n",
    "\n",
    "tr_ans = pd.read_csv(askopenfilename(title='Choose your training answer'))\n",
    "\n",
    "tr_ans = tr_ans.iloc[:, 0]\n",
    "\n",
    "ts_data = pd.read_csv(askopenfilename(title='Choose your test data'))\n",
    "\n",
    "tk_window.destroy()\n",
    "\n"
   ]
  },
  {
   "cell_type": "markdown",
   "metadata": {},
   "source": [
    "## Predict Algorithm\n",
    "\n",
    "Type your source code (Champion Algorithm)"
   ]
  },
  {
   "cell_type": "code",
   "execution_count": 4,
   "metadata": {},
   "outputs": [
    {
     "name": "stderr",
     "output_type": "stream",
     "text": [
      "C:\\Users\\caucse\\Anaconda3\\lib\\site-packages\\ipykernel_launcher.py:8: DeprecationWarning: time.clock has been deprecated in Python 3.3 and will be removed from Python 3.8: use time.perf_counter or time.process_time instead\n",
      "  \n"
     ]
    },
    {
     "name": "stdout",
     "output_type": "stream",
     "text": [
      "8.741592132999997\n"
     ]
    },
    {
     "name": "stderr",
     "output_type": "stream",
     "text": [
      "C:\\Users\\caucse\\Anaconda3\\lib\\site-packages\\ipykernel_launcher.py:57: DeprecationWarning: time.clock has been deprecated in Python 3.3 and will be removed from Python 3.8: use time.perf_counter or time.process_time instead\n"
     ]
    }
   ],
   "source": [
    "import pandas as pd\n",
    "import time\n",
    "from sklearn.preprocessing import LabelEncoder\n",
    "from sklearn.preprocessing import LabelBinarizer\n",
    "from sklearn.preprocessing import MinMaxScaler\n",
    "from sklearn.ensemble import RandomForestClassifier\n",
    "\n",
    "start = time.clock()\n",
    "\n",
    "x_train = tr_data.copy()\n",
    "y_train = tr_ans.copy()\n",
    "x_test = ts_data.copy()\n",
    "\n",
    "# Data processing\n",
    "lb = LabelBinarizer()\n",
    "enc = LabelEncoder()\n",
    "scaler = MinMaxScaler()\n",
    "\n",
    "drop_cols = ['average_monthly_hours', 'number_of_projects', 'work_accident', 'left']\n",
    "binary_cols = []\n",
    "encode_cols = ['department']\n",
    "scaled_cols = ['years_at_company', 'satisfaction_level', 'last_evaluation']\n",
    "\n",
    "for col in scaled_cols:\n",
    "    x_train[col] = x_train[col] / x_train[col].max()\n",
    "    x_test[col] = x_test[col] / x_test[col].max()\n",
    "\n",
    "x_train['work_point'] = (x_train['average_monthly_hours'] / 15.0) + x_train['number_of_projects']\n",
    "x_test['work_point'] = (x_test['average_monthly_hours'] / 15.0) + x_test['number_of_projects']\n",
    "\n",
    "x_train['promoted'] = x_train['promotion_last_5years'] * x_train['last_evaluation']\n",
    "x_test['promoted'] = x_test['promotion_last_5years'] * x_test['last_evaluation']\n",
    "\n",
    "x_train.drop(drop_cols, axis = 1, inplace = True)\n",
    "x_test.drop(drop_cols, axis = 1, inplace = True)\n",
    "\n",
    "for col in binary_cols:\n",
    "    x_train[col] = lb.fit_transform(x_train[col])\n",
    "    x_test[col] = lb.fit_transform(x_test[col])\n",
    "\n",
    "for col in encode_cols:\n",
    "    x_train[col] = enc.fit_transform(x_train[col])\n",
    "    x_test[col] = enc.fit_transform(x_test[col])    \n",
    "\n",
    "# Model definition\n",
    "model = RandomForestClassifier(n_estimators = 2000, max_features = 4, n_jobs = -1, min_samples_leaf = 1)\n",
    "\n",
    "# Train\n",
    "model = model.fit(x_train, y_train)\n",
    "\n",
    "# Test\n",
    "y_pred = model.predict(x_test)\n",
    "\n",
    "pred_df = pd.DataFrame(y_pred)\n",
    "\n",
    "pred_df.to_csv(\"data\\\\Human_Resources_Employee_Attrition.csv\", mode='w')\n",
    "print(time.clock() - start)\n",
    "\n",
    "# End of Demo"
   ]
  },
  {
   "cell_type": "markdown",
   "metadata": {},
   "source": [
    "## Check Accuracy\n",
    "\n",
    "Only for check accuracy"
   ]
  },
  {
   "cell_type": "code",
   "execution_count": 3,
   "metadata": {},
   "outputs": [
    {
     "name": "stdout",
     "output_type": "stream",
     "text": [
      "0.618539513171057\n"
     ]
    }
   ],
   "source": [
    "def accuracy(real, predict):\n",
    "    return sum(real == predict) / float(real.shape[0])\n",
    "\n",
    "tk_window = tkinter.Tk()\n",
    "cwd = os.getcwd()\n",
    "ts_ans = pd.read_csv(askopenfilename(title='Choose your test answer'))\n",
    "ts_ans = ts_ans.iloc[:, 0]\n",
    "tk_window.destroy()\n",
    "\n",
    "print(accuracy(ts_ans, y_pred))"
   ]
  },
  {
   "cell_type": "code",
   "execution_count": null,
   "metadata": {},
   "outputs": [],
   "source": []
  }
 ],
 "metadata": {
  "kernelspec": {
   "display_name": "Python 3",
   "language": "python",
   "name": "python3"
  },
  "language_info": {
   "codemirror_mode": {
    "name": "ipython",
    "version": 3
   },
   "file_extension": ".py",
   "mimetype": "text/x-python",
   "name": "python",
   "nbconvert_exporter": "python",
   "pygments_lexer": "ipython3",
   "version": "3.7.0"
  }
 },
 "nbformat": 4,
 "nbformat_minor": 2
}
