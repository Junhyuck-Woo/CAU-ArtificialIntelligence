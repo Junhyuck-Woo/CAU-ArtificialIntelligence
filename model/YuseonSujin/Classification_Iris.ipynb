{
 "cells": [
  {
   "cell_type": "markdown",
   "metadata": {},
   "source": [
    "# Classification Project"
   ]
  },
  {
   "cell_type": "markdown",
   "metadata": {},
   "source": [
    "## File IO\n",
    "\n",
    "Only File IO...\n",
    "\n",
    "You may not change this code."
   ]
  },
  {
   "cell_type": "code",
   "execution_count": 4,
   "metadata": {},
   "outputs": [],
   "source": [
    "from tkinter.filedialog import askopenfilename\n",
    "import pandas as pd\n",
    "import tkinter\n",
    "import os\n",
    "\n",
    "tk_window = tkinter.Tk()\n",
    "cwd = os.getcwd()\n",
    "\n",
    "tr_data = pd.read_csv(askopenfilename(title='Choose your training data'))\n",
    "\n",
    "tr_ans = pd.read_csv(askopenfilename(title='Choose your training answer'))\n",
    "\n",
    "tr_ans = tr_ans.iloc[:, 0]\n",
    "\n",
    "ts_data = pd.read_csv(askopenfilename(title='Choose your test data'))\n",
    "\n",
    "tk_window.destroy()\n",
    "\n"
   ]
  },
  {
   "cell_type": "markdown",
   "metadata": {},
   "source": [
    "## Predict Algorithm\n",
    "\n",
    "Type your source code (Champion Algorithm)"
   ]
  },
  {
   "cell_type": "code",
   "execution_count": 5,
   "metadata": {},
   "outputs": [],
   "source": [
    "# GNB\n",
    "# from sklearn.naive_bayes import GaussianNB\n",
    "# gnb = GaussianNB()\n",
    "# gnb = gnb.fit(tr_data, tr_ans)\n",
    "# y_pred = gnb.predict(ts_data)\n",
    "\n",
    "\n",
    "#SVM\n",
    "# from sklearn.svm import LinearSVC\n",
    "# LinSVC = LinearSVC()\n",
    "# LinSVC = LinSVC.fit(tr_data, tr_ans)\n",
    "# y_pred = LinSVC.predict(ts_data)\n",
    "\n",
    "# KNN, neighbors=5\n",
    "from sklearn.neighbors import KNeighborsClassifier\n",
    "KNN = KNeighborsClassifier(n_neighbors=5)\n",
    "KNN = KNN.fit(tr_data, tr_ans)\n",
    "y_pred = KNN.predict(ts_data)\n",
    "\n",
    "# Bagging\n",
    "# from sklearn.ensemble import BaggingClassifier\n",
    "# BC = BaggingClassifier(n_estimators=50)\n",
    "# BC = BC.fit(tr_data, tr_ans)\n",
    "# y_pred = BC.predict(ts_data)\n",
    "\n",
    "# RandomForest\n",
    "# from sklearn.ensemble import RandomForestClassifier\n",
    "# RF = RandomForestClassifier()\n",
    "# RF = RF.fit(tr_data, tr_ans)\n",
    "# y_pred = RF.predict(ts_data)\n",
    "\n",
    "# GradientBoosting\n",
    "# from sklearn.ensemble import GradientBoostingClassifier\n",
    "# GBC = GradientBoostingClassifier()\n",
    "# GBC = GBC.fit(tr_data, tr_ans)\n",
    "# y_pred = GBC.predict(ts_data)\n",
    "\n",
    "# AdaBoosting\n",
    "# from sklearn.ensemble import AdaBoostClassifier\n",
    "# from sklearn.tree import DecisionTreeClassifier\n",
    "\n",
    "# ABC = AdaBoostClassifier()\n",
    "# ABC = ABC.fit(tr_data, tr_ans)\n",
    "# y_pred = ABC.predict(ts_data)\n",
    "\n",
    "\n",
    "\n",
    "pred_df = pd.DataFrame(y_pred)\n",
    "pred_df.to_csv(\"output.csv\", mode='w')\n",
    "\n",
    "# End of Demo"
   ]
  },
  {
   "cell_type": "markdown",
   "metadata": {},
   "source": [
    "## Check Accuracy\n",
    "\n",
    "Only for check accuracy"
   ]
  },
  {
   "cell_type": "code",
   "execution_count": 6,
   "metadata": {},
   "outputs": [
    {
     "name": "stdout",
     "output_type": "stream",
     "text": [
      "1.0\n"
     ]
    }
   ],
   "source": [
    "def accuracy(real, predict):\n",
    "    return sum(real == predict) / float(real.shape[0])\n",
    "\n",
    "tk_window = tkinter.Tk()\n",
    "cwd = os.getcwd()\n",
    "ts_ans = pd.read_csv(askopenfilename(title='Choose your test answer'))\n",
    "ts_ans = ts_ans.iloc[:, 0]\n",
    "tk_window.destroy()\n",
    "\n",
    "print(accuracy(ts_ans, y_pred))"
   ]
  },
  {
   "cell_type": "code",
   "execution_count": null,
   "metadata": {},
   "outputs": [],
   "source": []
  }
 ],
 "metadata": {
  "kernelspec": {
   "display_name": "Python 3",
   "language": "python",
   "name": "python3"
  },
  "language_info": {
   "codemirror_mode": {
    "name": "ipython",
    "version": 3
   },
   "file_extension": ".py",
   "mimetype": "text/x-python",
   "name": "python",
   "nbconvert_exporter": "python",
   "pygments_lexer": "ipython3",
   "version": "3.7.0"
  }
 },
 "nbformat": 4,
 "nbformat_minor": 2
}
