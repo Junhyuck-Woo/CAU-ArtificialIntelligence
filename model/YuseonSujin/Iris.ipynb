{
 "cells": [
  {
   "cell_type": "code",
   "execution_count": 15,
   "metadata": {},
   "outputs": [],
   "source": [
    "from __future__ import print_function\n",
    "import os\n",
    "import pandas as pd"
   ]
  },
  {
   "cell_type": "code",
   "execution_count": 16,
   "metadata": {},
   "outputs": [],
   "source": [
    "data_path = ['C:\\\\Users\\\\ys\\\\Documents\\\\AI Project2\\\\data']\n",
    "file_path = os.sep.join(data_path + ['Iris_Data.csv'])\n",
    "data = pd.read_csv(file_path)"
   ]
  },
  {
   "cell_type": "code",
   "execution_count": 17,
   "metadata": {},
   "outputs": [],
   "source": [
    "# String to Number\n",
    "from sklearn.preprocessing import LabelEncoder\n",
    "\n",
    "lb = LabelEncoder()\n",
    "\n",
    "for col in ['species']:\n",
    "    data[col] = lb.fit_transform(data[col])\n",
    "    \n",
    "# # Mute the sklearn warning\n",
    "# import warnings\n",
    "# warnings.filterwarnings('ignore', module='sklearn')"
   ]
  },
  {
   "cell_type": "code",
   "execution_count": 18,
   "metadata": {},
   "outputs": [],
   "source": [
    "# Data Processing\n",
    "X_data = data.copy()\n",
    "X_data.drop(['species'], axis=1, inplace=True)\n",
    "y_data = data['species']"
   ]
  },
  {
   "cell_type": "code",
   "execution_count": 24,
   "metadata": {},
   "outputs": [],
   "source": [
    "# Split as train data and test data\n",
    "from sklearn.model_selection import train_test_split\n",
    "\n",
    "x_train, x_test, y_train, y_test = train_test_split(X_data, y_data, test_size=0.3, shuffle=True)"
   ]
  },
  {
   "cell_type": "code",
   "execution_count": 25,
   "metadata": {},
   "outputs": [],
   "source": [
    "def accuracy(real, predict) :\n",
    "    return sum(real == predict) / float(real.shape[0])"
   ]
  },
  {
   "cell_type": "code",
   "execution_count": 32,
   "metadata": {},
   "outputs": [
    {
     "name": "stdout",
     "output_type": "stream",
     "text": [
      "0.9777777777777777\n"
     ]
    }
   ],
   "source": [
    "# SVM\n",
    "from sklearn.svm import LinearSVC\n",
    "\n",
    "LinSVC = LinearSVC()\n",
    "\n",
    "LinSVC = LinSVC.fit(x_train, y_train)\n",
    "y_predict = LinSVC.predict(x_test)\n",
    "\n",
    "print(accuracy(y_test, y_predict))"
   ]
  },
  {
   "cell_type": "code",
   "execution_count": 11,
   "metadata": {},
   "outputs": [
    {
     "name": "stdout",
     "output_type": "stream",
     "text": [
      "0.9333333333333333\n"
     ]
    }
   ],
   "source": [
    "from sklearn.naive_bayes import GaussianNB\n",
    "from sklearn.model_selection import cross_val_score\n",
    "\n",
    "GNB = GaussianNB()\n",
    "\n",
    "GNB = GNB.fit(x_train, y_train)\n",
    "y_predict = GNB.predict(x_test)\n",
    "\n",
    "print(accuracy(y_test, y_predict))\n",
    "\n",
    "# cv_N = 4\n",
    "# scores = cross_val_score(GNB, X_data, y_data, cv=cv_N)\n",
    "# print(scores)\n",
    "# print(np.mean(scores))"
   ]
  },
  {
   "cell_type": "code",
   "execution_count": 3,
   "metadata": {},
   "outputs": [],
   "source": [
    "import matplotlib.pyplot as plt\n",
    "import seaborn as sns\n",
    "%matplotlib inline\n",
    "\n",
    "from pandas.plotting import parallel_coordinates\n",
    "# plt.figure(figsize=(15,10))\n",
    "# parallel_coordinates(data, \"species\")\n",
    "# plt.title('Parallel Coordinates Plot', fontsize=20, fontweight='bold')\n",
    "# plt.xlabel('Features', fontsize=15)\n",
    "# plt.ylabel('Features values', fontsize=15)\n",
    "# plt.legend(loc=1, prop={'size': 15}, frameon=True,shadow=True, facecolor=\"white\", edgecolor=\"black\")\n",
    "# plt.show()\n",
    "\n",
    "\n",
    "# plt.figure()\n",
    "# sns.pairplot(data, hue = \"species\", size=3, markers=[\"o\", \"s\", \"D\"])\n",
    "# plt.show().plt.figure()\n",
    "# dataset.boxplot(by=\"species\", figsize=(15, 10))\n",
    "# plt.show()\n",
    "\n",
    "\n",
    "# plt.figure()\n",
    "# data.boxplot(by=\"species\", figsize=(15, 10))\n",
    "# plt.show()"
   ]
  },
  {
   "cell_type": "code",
   "execution_count": 8,
   "metadata": {},
   "outputs": [
    {
     "name": "stdout",
     "output_type": "stream",
     "text": [
      "0.925\n"
     ]
    }
   ],
   "source": [
    "# KNN, neighbors=3\n",
    "from sklearn.neighbors import KNeighborsClassifier\n",
    "KNN = KNeighborsClassifier(n_neighbors=3)\n",
    "\n",
    "KNN = KNN.fit(x_train, y_train)\n",
    "y_predict = KNN.predict(x_test)\n",
    "\n",
    "print(accuracy(y_test, y_predict))"
   ]
  },
  {
   "cell_type": "code",
   "execution_count": 9,
   "metadata": {},
   "outputs": [
    {
     "name": "stdout",
     "output_type": "stream",
     "text": [
      "0.9333333333333333\n"
     ]
    }
   ],
   "source": [
    "# KNN, neighbors=5\n",
    "from sklearn.neighbors import KNeighborsClassifier\n",
    "\n",
    "KNN = KNeighborsClassifier(n_neighbors=5)\n",
    "\n",
    "KNN = KNN.fit(x_train, y_train)\n",
    "y_predict = KNN.predict(x_test)\n",
    "\n",
    "print(accuracy(y_test, y_predict))"
   ]
  },
  {
   "cell_type": "code",
   "execution_count": 10,
   "metadata": {},
   "outputs": [
    {
     "name": "stdout",
     "output_type": "stream",
     "text": [
      "0.9416666666666667\n"
     ]
    }
   ],
   "source": [
    "# Decision Tree\n",
    "from sklearn.tree import DecisionTreeClassifier\n",
    "\n",
    "DTC = DecisionTreeClassifier()\n",
    "\n",
    "DTC = DTC.fit(x_train, y_train)\n",
    "y_predict = DTC.predict(x_test)\n",
    "\n",
    "print(accuracy(y_test, y_predict))\n"
   ]
  },
  {
   "cell_type": "code",
   "execution_count": 12,
   "metadata": {},
   "outputs": [],
   "source": [
    "# from sklearn.naive_bayes import GaussianNB, BernoulliNB, MultinomialNB\n",
    "# X = data[data.columns[:-1]]\n",
    "# y = data.species\n",
    "\n",
    "# # Type your source code\n",
    "# nb = {'gaussian':GaussianNB(), 'bernoulli':BernoulliNB(), 'multinomial':MultinomialNB()}\n",
    "\n",
    "# scores = {}\n",
    "# for key, model in nb.items():\n",
    "#     s = cross_val_score(model, X, y, cv=cv_N, scoring='accuracy')\n",
    "#     scores[key]=np.mean(s)\n",
    "    \n",
    "# scores"
   ]
  },
  {
   "cell_type": "code",
   "execution_count": 14,
   "metadata": {},
   "outputs": [
    {
     "name": "stdout",
     "output_type": "stream",
     "text": [
      "0.7916666666666666\n"
     ]
    }
   ],
   "source": [
    "# Logistic Regression\n",
    "from sklearn.linear_model import LogisticRegression\n",
    "\n",
    "LR = LogisticRegression()\n",
    "\n",
    "LR = LR.fit(x_train, y_train)\n",
    "y_predict = LR.predict(x_test)\n",
    "\n",
    "print(accuracy(y_test, y_predict))"
   ]
  },
  {
   "cell_type": "code",
   "execution_count": null,
   "metadata": {},
   "outputs": [],
   "source": []
  },
  {
   "cell_type": "code",
   "execution_count": null,
   "metadata": {},
   "outputs": [],
   "source": []
  },
  {
   "cell_type": "code",
   "execution_count": null,
   "metadata": {},
   "outputs": [],
   "source": []
  }
 ],
 "metadata": {
  "kernelspec": {
   "display_name": "Python 3",
   "language": "python",
   "name": "python3"
  },
  "language_info": {
   "codemirror_mode": {
    "name": "ipython",
    "version": 3
   },
   "file_extension": ".py",
   "mimetype": "text/x-python",
   "name": "python",
   "nbconvert_exporter": "python",
   "pygments_lexer": "ipython3",
   "version": "3.7.0"
  }
 },
 "nbformat": 4,
 "nbformat_minor": 2
}
