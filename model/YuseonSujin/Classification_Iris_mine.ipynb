{
 "cells": [
  {
   "cell_type": "markdown",
   "metadata": {},
   "source": [
    "# Classification Project"
   ]
  },
  {
   "cell_type": "markdown",
   "metadata": {},
   "source": [
    "## File IO\n",
    "\n",
    "Only File IO...\n",
    "\n",
    "You may not change this code."
   ]
  },
  {
   "cell_type": "code",
   "execution_count": 1,
   "metadata": {},
   "outputs": [],
   "source": [
    "# Base Module of data processing\n",
    "import numpy as np\n",
    "import seaborn as sns\n",
    "import matplotlib.pyplot as plt\n",
    "import glob\n",
    "\n",
    "from scipy.spatial.distance import pdist, squareform\n",
    "from sklearn.model_selection import cross_val_score\n",
    "from sklearn.metrics import confusion_matrix\n",
    "from sklearn.metrics import classification_report\n",
    "from sklearn.metrics import accuracy_score\n",
    "from sklearn.metrics import precision_recall_fscore_support\n",
    "from sklearn.model_selection import train_test_split\n",
    "from sklearn.externals import joblib"
   ]
  },
  {
   "cell_type": "code",
   "execution_count": 2,
   "metadata": {},
   "outputs": [],
   "source": [
    "from tkinter.filedialog import askopenfilename\n",
    "import pandas as pd\n",
    "import tkinter\n",
    "import os\n",
    "\n",
    "# x_data = pd.read_csv(askopenfilename(title='Choose your training data'))\n",
    "\n",
    "# y_data = pd.read_csv(askopenfilename(title='Choose your training answer'))\n",
    "\n",
    "data_path = ['../../13week_project_data/Iris_Data']\n",
    "x_file_path = os.sep.join(data_path + ['data.csv'])\n",
    "x_data = pd.read_csv(x_file_path)\n",
    "\n",
    "y_file_path = os.sep.join(data_path + ['answer.csv'])\n",
    "y_data = pd.read_csv(y_file_path)\n",
    "\n",
    "y_data = y_data.iloc[:, 0]\n",
    "\n",
    "# ts_data = pd.read_csv(askopenfilename(title='Choose your test data'))"
   ]
  },
  {
   "cell_type": "code",
   "execution_count": 3,
   "metadata": {},
   "outputs": [],
   "source": [
    "from sklearn.model_selection import train_test_split\n",
    "# Split as train data and test data\n",
    "tr_data, ts_data, tr_ans, ts_ans = train_test_split(x_data, y_data, test_size=0.3, shuffle=True)\n",
    "# tr_data, ts_data, tr_ans, ts_ans = train_test_split(x_data, y_data, test_size=0.3, random_state=42)"
   ]
  },
  {
   "cell_type": "code",
   "execution_count": 4,
   "metadata": {},
   "outputs": [],
   "source": [
    "def accuracy(real, predict):\n",
    "    return sum(real == predict) / float(real.shape[0])"
   ]
  },
  {
   "cell_type": "markdown",
   "metadata": {},
   "source": [
    "## Predict Algorithm\n",
    "\n",
    "Type your source code (Champion Algorithm)"
   ]
  },
  {
   "cell_type": "code",
   "execution_count": 5,
   "metadata": {},
   "outputs": [
    {
     "name": "stdout",
     "output_type": "stream",
     "text": [
      "0.9555555555555556\n",
      "F-Score: 0.956\n",
      "Accuracy:  0.9555555555555556\n",
      "             precision    recall  f1-score   support\n",
      "\n",
      "          1       1.00      1.00      1.00        15\n",
      "          2       1.00      0.88      0.93        16\n",
      "          3       0.88      1.00      0.93        14\n",
      "\n",
      "avg / total       0.96      0.96      0.96        45\n",
      "\n"
     ]
    },
    {
     "name": "stderr",
     "output_type": "stream",
     "text": [
      "C:\\Users\\ys\\Anaconda3\\lib\\site-packages\\sklearn\\ensemble\\weight_boosting.py:29: DeprecationWarning: numpy.core.umath_tests is an internal NumPy module and should not be imported. It will be removed in a future NumPy release.\n",
      "  from numpy.core.umath_tests import inner1d\n"
     ]
    },
    {
     "data": {
      "text/plain": [
       "Text(0.5,4.5,'Ground Truth')"
      ]
     },
     "execution_count": 5,
     "metadata": {},
     "output_type": "execute_result"
    },
    {
     "data": {
      "image/png": "[encoded data removed]",
      "text/plain": [
       "<Figure size 432x288 with 2 Axes>"
      ]
     },
     "metadata": {
      "needs_background": "light"
     },
     "output_type": "display_data"
    }
   ],
   "source": [
    "# data_df = pd.DataFrame(ts_data)\n",
    "# data_df.to_csv(\"Iris_ts_data.csv\", mode='w')\n",
    "# ans_df = pd.DataFrame(ts_ans)\n",
    "# ans_df.to_csv(\"Iris_ts_ans.csv\", mode='w')\n",
    "\n",
    "# # KNN, neighbors=5\n",
    "# from sklearn.neighbors import KNeighborsClassifier\n",
    "# KNN = KNeighborsClassifier(n_neighbors=5)\n",
    "# KNN = KNN.fit(tr_data, tr_ans)\n",
    "# y_pred = KNN.predict(ts_data)\n",
    "\n",
    "# # GNB\n",
    "# from sklearn.naive_bayes import GaussianNB\n",
    "# gnb = GaussianNB()\n",
    "# gnb = gnb.fit(tr_data, tr_ans)\n",
    "# y_pred = gnb.predict(ts_data)\n",
    "               \n",
    "# # SVM\n",
    "# from sklearn.svm import LinearSVC\n",
    "# LinSVC = LinearSVC()\n",
    "# LinSVC = LinSVC.fit(tr_data, tr_ans)\n",
    "# y_pred = LinSVC.predict(ts_data)\n",
    "\n",
    "# # Bagging\n",
    "# from sklearn.ensemble import BaggingClassifier\n",
    "# BC = BaggingClassifier(n_estimators=50)\n",
    "# BC = BC.fit(tr_data, tr_ans)\n",
    "# y_pred = BC.predict(ts_data)\n",
    "\n",
    "# # RandomForest\n",
    "from sklearn.ensemble import RandomForestClassifier\n",
    "RF = RandomForestClassifier(n_estimators=4, random_state=7, max_leaf_nodes=3)\n",
    "RF = RF.fit(tr_data, tr_ans)\n",
    "y_pred = RF.predict(ts_data)\n",
    "print(accuracy(ts_ans, y_pred))\n",
    "\n",
    "\n",
    "\n",
    "# Test\n",
    "prediction = RF.predict(ts_data)\n",
    "\n",
    "# Check Result\n",
    "p,r,f,s = precision_recall_fscore_support(ts_ans, prediction, average='micro')\n",
    "print(\"F-Score:\", round(f,3))\n",
    "print(\"Accuracy: \", accuracy_score(ts_ans, prediction))\n",
    "\n",
    "print(classification_report(ts_ans, prediction))\n",
    "\n",
    "labels = sorted(ts_ans.unique())\n",
    "chart = pd.DataFrame(confusion_matrix(ts_ans, prediction),\n",
    "                  columns=labels, index=labels)\n",
    "sns.set_context('talk')\n",
    "ax = sns.heatmap(chart, annot=True, fmt='d', xticklabels=True, yticklabels=True)\n",
    "ax.set_xticklabels(labels)\n",
    "ax.set_yticklabels(labels[::-1])\n",
    "ax.set_ylabel('Prediction')\n",
    "ax.set_xlabel('Ground Truth')\n",
    "\n",
    "\n",
    "# End of Demo"
   ]
  },
  {
   "cell_type": "markdown",
   "metadata": {},
   "source": [
    "## Check Accuracy\n",
    "\n",
    "Only for check accuracy"
   ]
  },
  {
   "cell_type": "code",
   "execution_count": 6,
   "metadata": {},
   "outputs": [
    {
     "name": "stdout",
     "output_type": "stream",
     "text": [
      "0.9777777777777777\n",
      "F-Score: 0.978\n",
      "Accuracy:  0.9777777777777777\n",
      "             precision    recall  f1-score   support\n",
      "\n",
      "          1       1.00      1.00      1.00        15\n",
      "          2       1.00      0.94      0.97        16\n",
      "          3       0.93      1.00      0.97        14\n",
      "\n",
      "avg / total       0.98      0.98      0.98        45\n",
      "\n"
     ]
    },
    {
     "data": {
      "text/plain": [
       "Text(0.5,4.5,'Ground Truth')"
      ]
     },
     "execution_count": 6,
     "metadata": {},
     "output_type": "execute_result"
    },
    {
     "data": {
      "image/png": "[encoded data removed]",
      "text/plain": [
       "<Figure size 432x288 with 2 Axes>"
      ]
     },
     "metadata": {
      "needs_background": "light"
     },
     "output_type": "display_data"
    }
   ],
   "source": [
    "from sklearn.ensemble import RandomForestClassifier\n",
    "RF = RandomForestClassifier()\n",
    "RF = RF.fit(tr_data, tr_ans)\n",
    "y_pred2 = RF.predict(ts_data)\n",
    "print(accuracy(ts_ans, y_pred2))\n",
    "\n",
    "\n",
    "# Test\n",
    "prediction = RF.predict(ts_data)\n",
    "\n",
    "# Check Result\n",
    "p,r,f,s = precision_recall_fscore_support(ts_ans, prediction, average='micro')\n",
    "print(\"F-Score:\", round(f,3))\n",
    "print(\"Accuracy: \", accuracy_score(ts_ans, prediction))\n",
    "\n",
    "print(classification_report(ts_ans, prediction))\n",
    "\n",
    "labels = sorted(ts_ans.unique())\n",
    "chart = pd.DataFrame(confusion_matrix(ts_ans, prediction),\n",
    "                  columns=labels, index=labels)\n",
    "sns.set_context('talk')\n",
    "ax = sns.heatmap(chart, annot=True, fmt='d', xticklabels=True, yticklabels=True)\n",
    "ax.set_xticklabels(labels)\n",
    "ax.set_yticklabels(labels[::-1])\n",
    "ax.set_ylabel('Prediction')\n",
    "ax.set_xlabel('Ground Truth')"
   ]
  },
  {
   "cell_type": "code",
   "execution_count": 7,
   "metadata": {},
   "outputs": [
    {
     "name": "stdout",
     "output_type": "stream",
     "text": [
      "Prediction in training data: 0.990\n",
      "Prediction in test data: 0.978\n"
     ]
    }
   ],
   "source": [
    "print(\"Prediction in training data: {:.3f}\".format(RF.score(tr_data, tr_ans)))\n",
    "print(\"Prediction in test data: {:.3f}\".format(RF.score(ts_data, ts_ans)))"
   ]
  },
  {
   "cell_type": "code",
   "execution_count": 8,
   "metadata": {},
   "outputs": [],
   "source": [
    "# def accuracy(real, predict):\n",
    "#     return sum(real == predict) / float(real.shape[0])\n",
    "# \n",
    "# tk_window = tkinter.Tk()\n",
    "# cwd = os.getcwd()\n",
    "# ts_ans = pd.read_csv(askopenfilename(title='Choose your test answer'))\n",
    "# ts_ans = ts_ans.iloc[:, 0]\n",
    "# tk_window.destroy()\n",
    "\n",
    "# print(accuracy(ts_ans, y_pred))"
   ]
  },
  {
   "cell_type": "code",
   "execution_count": null,
   "metadata": {},
   "outputs": [],
   "source": []
  }
 ],
 "metadata": {
  "kernelspec": {
   "display_name": "Python 3",
   "language": "python",
   "name": "python3"
  },
  "language_info": {
   "codemirror_mode": {
    "name": "ipython",
    "version": 3
   },
   "file_extension": ".py",
   "mimetype": "text/x-python",
   "name": "python",
   "nbconvert_exporter": "python",
   "pygments_lexer": "ipython3",
   "version": "3.7.0"
  }
 },
 "nbformat": 4,
 "nbformat_minor": 2
}
