{
 "cells": [
  {
   "cell_type": "markdown",
   "metadata": {},
   "source": [
    "# Classification Project"
   ]
  },
  {
   "cell_type": "markdown",
   "metadata": {},
   "source": [
    "## File IO\n",
    "\n",
    "Only File IO...\n",
    "\n",
    "You may not change this code."
   ]
  },
  {
   "cell_type": "code",
   "execution_count": 1,
   "metadata": {},
   "outputs": [],
   "source": [
    "# Base Module of data processing\n",
    "import numpy as np\n",
    "import pandas as pd\n",
    "import seaborn as sns\n",
    "import matplotlib.pyplot as plt\n",
    "import glob\n",
    "\n",
    "from scipy.spatial.distance import pdist, squareform\n",
    "from sklearn.model_selection import cross_val_score\n",
    "from sklearn.metrics import confusion_matrix\n",
    "from sklearn.metrics import classification_report\n",
    "from sklearn.metrics import accuracy_score\n",
    "from sklearn.metrics import precision_recall_fscore_support\n",
    "from sklearn.model_selection import train_test_split\n",
    "from sklearn.externals import joblib"
   ]
  },
  {
   "cell_type": "code",
   "execution_count": 2,
   "metadata": {},
   "outputs": [],
   "source": [
    "from tkinter.filedialog import askopenfilename\n",
    "import pandas as pd\n",
    "import tkinter\n",
    "import os\n",
    "\n",
    "# tk_window = tkinter.Tk()\n",
    "# cwd = os.getcwd()\n",
    "\n",
    "# tr_data = pd.read_csv(askopenfilename(title='Choose your training data'))\n",
    "tr_data = pd.read_csv('../../13week_project_data/Wine_Quality_Data/tr_data.csv')\n",
    "# tr_ans = pd.read_csv(askopenfilename(title='Choose your training answer'))\n",
    "tr_ans = pd.read_csv('../../13week_project_data/Wine_Quality_Data/tr_ans.csv')\n",
    "\n",
    "tr_ans = tr_ans.iloc[:, 0]\n",
    "\n",
    "# ts_data = pd.read_csv(askopenfilename(title='Choose your test data'))\n",
    "ts_data = pd.read_csv('../../13week_project_data/Wine_Quality_Data/ts_data.csv')\n",
    "\n",
    "# tk_window.destroy()\n",
    "\n",
    "s1 = pd.Series(tr_ans, name = 'color')\n",
    "data = pd.concat([tr_data, s1], axis=1)\n",
    "\n",
    "original_data = data.copy()\n",
    "\n",
    "# if data.shape[0] > 3250:\n",
    "    \n"
   ]
  },
  {
   "cell_type": "code",
   "execution_count": 3,
   "metadata": {},
   "outputs": [],
   "source": [
    "import matplotlib.pyplot as plt\n",
    "import seaborn as sns\n",
    "%matplotlib inline\n",
    "\n",
    "data.drop(['quality'], axis=1, inplace=True)\n",
    "\n",
    "from sklearn.preprocessing import LabelBinarizer\n",
    "lb = LabelBinarizer()\n",
    "\n",
    "data['color'] = lb.fit_transform(data['color'])\n",
    "\n",
    "# pd.value_counts(data['color'].values.ravel())"
   ]
  },
  {
   "cell_type": "code",
   "execution_count": 4,
   "metadata": {},
   "outputs": [],
   "source": [
    "# import seaborn as sns\n",
    "# import matplotlib.pyplot as plt\n",
    "# feature_names = data.columns\n",
    "# for i in range(len(feature_names)-1):\n",
    "#     figure = plt.figure()\n",
    "#     ax = sns.boxplot(x='color', y=feature_names[i], data=data)"
   ]
  },
  {
   "cell_type": "code",
   "execution_count": 5,
   "metadata": {},
   "outputs": [],
   "source": [
    "df = data.copy(deep=True)\n",
    "\n",
    "types = df['color'].unique()\n",
    "d = {type: df[df['color'] == type] for type in types}\n",
    "\n",
    "# d[1]"
   ]
  },
  {
   "cell_type": "code",
   "execution_count": 6,
   "metadata": {},
   "outputs": [],
   "source": [
    "low = .25\n",
    "high = .75\n",
    "\n",
    "bounds = {}\n",
    "for type in types:\n",
    "    filt_df = d[type].loc[:, d[type].columns != 'color']\n",
    "    quant_df = filt_df.quantile([low, high])\n",
    "    IQR = quant_df.iloc[1,:]- quant_df.iloc[0,:]\n",
    "    quant_df.iloc[0,:] = quant_df.iloc[0,:] - 1.5*IQR\n",
    "    quant_df.iloc[1,:] = quant_df.iloc[1,:] + 1.5*IQR\n",
    "    bounds[type] = quant_df\n",
    "    \n",
    "# bounds[1]"
   ]
  },
  {
   "cell_type": "code",
   "execution_count": 7,
   "metadata": {},
   "outputs": [],
   "source": [
    "filt_df = d[1].loc[:, d[1].columns != 'color'] # Remove 'Type' Column\n",
    "filt_df = filt_df.apply(lambda x: x[(x>bounds[1].loc[low,x.name]) & (x < bounds[1].loc[high,x.name])], axis=0)\n",
    "filt_df = pd.concat([filt_df,d[1].loc[:,'color']], axis=1)\n",
    "\n",
    "# filt_df"
   ]
  },
  {
   "cell_type": "code",
   "execution_count": 8,
   "metadata": {},
   "outputs": [],
   "source": [
    "df_new = {}\n",
    "\n",
    "for type in types:\n",
    "    filt_df = d[type].loc[:, d[type].columns != 'color'] # Remove 'Type' Column\n",
    "    filt_df = filt_df.apply(lambda x: x[(x>bounds[type].loc[low,x.name]) & (x < bounds[type].loc[high,x.name])], axis=0)\n",
    "    df_new[type] = pd.concat([filt_df,d[type].loc[:,'color']], axis=1)\n",
    "\n",
    "\n",
    "data_new = result = pd.concat(df_new)\n",
    "# data_new"
   ]
  },
  {
   "cell_type": "code",
   "execution_count": 9,
   "metadata": {},
   "outputs": [],
   "source": [
    "# Now we have our glass data that has all outliers removed\n",
    "# Check out the boxplot again\n",
    "\n",
    "# for i in range(len(feature_names)-1):\n",
    "#     figure = plt.figure()\n",
    "#     ax = sns.boxplot(x='color', y=feature_names[i], data=data_new)"
   ]
  },
  {
   "cell_type": "code",
   "execution_count": 10,
   "metadata": {},
   "outputs": [],
   "source": [
    "# 지워\n",
    "# types = np.unique(train['color'])\n",
    "\n",
    "# for i in range(len(types)):\n",
    "#     fig = plt.figure()\n",
    "#     average = data_new[[data_new.columns[i], \"color\"]].groupby(['color'],as_index=False).mean()\n",
    "#     sns.barplot(x = 'color', y = data_new.columns[i], data= average)"
   ]
  },
  {
   "cell_type": "code",
   "execution_count": 11,
   "metadata": {},
   "outputs": [],
   "source": [
    "# data[data['color'] == 1]"
   ]
  },
  {
   "cell_type": "code",
   "execution_count": 12,
   "metadata": {},
   "outputs": [],
   "source": [
    "# data[data['color'] == 0]"
   ]
  },
  {
   "cell_type": "code",
   "execution_count": 13,
   "metadata": {},
   "outputs": [],
   "source": [
    "# data with outliers removed \n",
    "# data.head()\n",
    "# y_data = data['color']\n",
    "# x_data = data.drop(data.columns[len(data.columns)-1], axis=1)\n",
    "\n",
    "# from sklearn.model_selection import train_test_split\n",
    "# # Split as train data and test data\n",
    "# tr_data, ts_data, tr_ans, ts_ans = train_test_split(x_data, y_data, test_size=0.5, shuffle=True)\n",
    "\n",
    "\n",
    "# original data\n",
    "# original_data['color'] = lb.fit_transform(original_data['color'])\n",
    "\n",
    "# y_data = original_data['color']\n",
    "# x_data = data.drop(data.columns[len(data.columns)-1],axis=1)\n",
    "\n",
    "# from sklearn.model_selection import train_test_split\n",
    "# # Split as train data and test data\n",
    "# tr_data, ts_data, tr_ans, ts_ans = train_test_split(x_data, y_data, test_size=0.5, shuffle=True)"
   ]
  },
  {
   "cell_type": "markdown",
   "metadata": {},
   "source": [
    "## Predict Algorithm\n",
    "\n",
    "Type your source code (Champion Algorithm)"
   ]
  },
  {
   "cell_type": "code",
   "execution_count": 14,
   "metadata": {},
   "outputs": [
    {
     "name": "stderr",
     "output_type": "stream",
     "text": [
      "C:\\Users\\Susan\\Anaconda3\\lib\\site-packages\\sklearn\\ensemble\\weight_boosting.py:29: DeprecationWarning: numpy.core.umath_tests is an internal NumPy module and should not be imported. It will be removed in a future NumPy release.\n",
      "  from numpy.core.umath_tests import inner1d\n"
     ]
    }
   ],
   "source": [
    "# data_df = pd.DataFrame(ts_data)\n",
    "# data_df.to_csv(\"Iris_ts_data.csv\", mode='w')\n",
    "# ans_df = pd.DataFrame(ts_ans)\n",
    "# ans_df.to_csv(\"Iris_ts_ans.csv\", mode='w')\n",
    "\n",
    "# # KNN, neighbors=5\n",
    "# from sklearn.neighbors import KNeighborsClassifier\n",
    "# KNN = KNeighborsClassifier(n_neighbors=5)\n",
    "# KNN = KNN.fit(tr_data, tr_ans)\n",
    "# y_pred = KNN.predict(ts_data)\n",
    "\n",
    "# pred_df = pd.DataFrame(y_pred)\n",
    "# pred_df.to_csv(\"Iris_KNN5.csv\", mode='w')\n",
    "# print(accuracy(ts_ans, y_pred))\n",
    "\n",
    "# # GNB\n",
    "# from sklearn.naive_bayes import GaussianNB\n",
    "# gnb = GaussianNB()\n",
    "# gnb = gnb.fit(tr_data, tr_ans)\n",
    "# y_pred = gnb.predict(ts_data)\n",
    "               \n",
    "# pred_df = pd.DataFrame(y_pred)\n",
    "# pred_df.to_csv(\"Iris_GNB.csv\", mode='w')\n",
    "# print(accuracy(ts_ans, y_pred))\n",
    "               \n",
    "# # SVM\n",
    "# from sklearn.svm import LinearSVC\n",
    "# LinSVC = LinearSVC()\n",
    "# LinSVC = LinSVC.fit(tr_data, tr_ans)\n",
    "# y_pred = LinSVC.predict(ts_data)\n",
    "               \n",
    "# pred_df = pd.DataFrame(y_pred)\n",
    "# pred_df.to_csv(\"Iris_SVM.csv\", mode='w')\n",
    "# print(accuracy(ts_ans, y_pred))\n",
    "\n",
    "# Bagging\n",
    "# from sklearn.ensemble import BaggingClassifier\n",
    "# BC = BaggingClassifier(n_estimators=50)\n",
    "# BC = BC.fit(tr_data, tr_ans)\n",
    "# y_pred = BC.predict(ts_data)\n",
    "               \n",
    "# pred_df = pd.DataFrame(y_pred)\n",
    "# pred_df.to_csv(\"Iris_Bagging.csv\", mode='w')\n",
    "# print(accuracy(ts_ans, y_pred))\n",
    "\n",
    "# # RandomForest\n",
    "from sklearn.ensemble import RandomForestClassifier\n",
    "RF = RandomForestClassifier()\n",
    "RF = RF.fit(tr_data, tr_ans)\n",
    "y_pred = RF.predict(ts_data)\n",
    "               \n",
    "# pred_df = pd.DataFrame(y_pred)\n",
    "# pred_df.to_csv(\"Iris_RF.csv\", mode='w')\n",
    "# print(accuracy(ts_ans, y_pred))\n",
    "\n",
    "# # GradientBoosting\n",
    "# from sklearn.ensemble import GradientBoostingClassifier\n",
    "# GBC = GradientBoostingClassifier()\n",
    "# GBC = GBC.fit(tr_data, tr_ans)\n",
    "# y_pred = GBC.predict(ts_data)\n",
    "               \n",
    "# pred_df = pd.DataFrame(y_pred)\n",
    "# pred_df.to_csv(\"Iris_GB.csv\", mode='w')\n",
    "# print(accuracy(ts_ans, y_pred))\n",
    "\n",
    "# # AdaBoosting\n",
    "# from sklearn.ensemble import AdaBoostClassifier\n",
    "# from sklearn.tree import DecisionTreeClassifier\n",
    "# ABC = AdaBoostClassifier()\n",
    "# ABC = ABC.fit(tr_data, tr_ans)\n",
    "# y_pred = ABC.predict(ts_data)\n",
    "               \n",
    "# pred_df = pd.DataFrame(y_pred)\n",
    "# pred_df.to_csv(\"Iris_AB.csv\", mode='w')\n",
    "# print(accuracy(ts_ans, y_pred))\n",
    "\n",
    "# pred_df = pd.DataFrame(y_pred)\n",
    "# pred_df.to_csv(\"output.csv\", mode='w')\n",
    "\n",
    "# End of Demo"
   ]
  },
  {
   "cell_type": "markdown",
   "metadata": {},
   "source": [
    "## Check Accuracy\n",
    "\n",
    "Only for check accuracy"
   ]
  },
  {
   "cell_type": "code",
   "execution_count": 15,
   "metadata": {},
   "outputs": [
    {
     "name": "stdout",
     "output_type": "stream",
     "text": [
      "0.99153194765204\n"
     ]
    }
   ],
   "source": [
    "def accuracy(real, predict):\n",
    "    return sum(real == predict) / float(real.shape[0])\n",
    "\n",
    "tk_window = tkinter.Tk()\n",
    "cwd = os.getcwd()\n",
    "ts_ans = pd.read_csv(askopenfilename(title='Choose your test answer'))\n",
    "ts_ans = ts_ans.iloc[:, 0]\n",
    "tk_window.destroy()\n",
    "\n",
    "print(accuracy(ts_ans, y_pred))"
   ]
  },
  {
   "cell_type": "code",
   "execution_count": 16,
   "metadata": {},
   "outputs": [
    {
     "name": "stdout",
     "output_type": "stream",
     "text": [
      "F-Score: 0.992\n",
      "Accuracy:  0.99153194765204\n",
      "             precision    recall  f1-score   support\n",
      "\n",
      "          0       0.98      0.98      0.98       331\n",
      "          1       0.99      0.99      0.99       968\n",
      "\n",
      "avg / total       0.99      0.99      0.99      1299\n",
      "\n"
     ]
    },
    {
     "data": {
      "image/png": "[encoded data removed]",
      "text/plain": [
       "<Figure size 432x288 with 2 Axes>"
      ]
     },
     "metadata": {
      "needs_background": "light"
     },
     "output_type": "display_data"
    }
   ],
   "source": [
    "p,r,f,s = precision_recall_fscore_support(ts_ans, y_pred, average='micro')\n",
    "print(\"F-Score:\", round(f,3))\n",
    "print(\"Accuracy: \", accuracy_score(ts_ans, y_pred))\n",
    "\n",
    "print(classification_report(ts_ans, y_pred))\n",
    "\n",
    "labels = sorted(ts_ans.unique())\n",
    "chart = pd.DataFrame(confusion_matrix(ts_ans, y_pred),\n",
    "                  columns=labels, index=labels)\n",
    "sns.set_context('talk')\n",
    "ax = sns.heatmap(chart, annot=True, fmt='d', xticklabels=True, yticklabels=True)\n",
    "ax.set_xticklabels(labels)\n",
    "ax.set_yticklabels(labels)\n",
    "ax.set_ylabel('Prediction')\n",
    "ax.set_xlabel('Ground Truth');"
   ]
  }
 ],
 "metadata": {
  "kernelspec": {
   "display_name": "Python 3",
   "language": "python",
   "name": "python3"
  },
  "language_info": {
   "codemirror_mode": {
    "name": "ipython",
    "version": 3
   },
   "file_extension": ".py",
   "mimetype": "text/x-python",
   "name": "python",
   "nbconvert_exporter": "python",
   "pygments_lexer": "ipython3",
   "version": "3.7.0"
  }
 },
 "nbformat": 4,
 "nbformat_minor": 2
}
