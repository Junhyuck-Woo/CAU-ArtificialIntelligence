{
 "cells": [
  {
   "cell_type": "markdown",
   "metadata": {},
   "source": [
    "# Classification Project"
   ]
  },
  {
   "cell_type": "markdown",
   "metadata": {},
   "source": [
    "## File IO\n",
    "\n",
    "Only File IO...\n",
    "\n",
    "You may not change this code."
   ]
  },
  {
   "cell_type": "code",
   "execution_count": 1,
   "metadata": {},
   "outputs": [],
   "source": [
    "import numpy as np\n",
    "import pandas as pd\n",
    "import seaborn as sns\n",
    "import matplotlib.pyplot as plt\n",
    "import os"
   ]
  },
  {
   "cell_type": "code",
   "execution_count": 2,
   "metadata": {},
   "outputs": [],
   "source": [
    "# data_path = ['../../13week_project_data/Orange_Telecom_Churn_Data']\n",
    "\n",
    "# tr_data = pd.read_csv(os.sep.join(data_path + ['tr_data.csv']))\n",
    "\n",
    "# tr_ans = pd.read_csv(os.sep.join(data_path + ['tr_ans.csv']))\n",
    "\n",
    "# tr_ans = tr_ans.iloc[:, 0]\n",
    "\n",
    "# ts_data = pd.read_csv(os.sep.join(data_path + ['ts_data.csv']))\n",
    "\n",
    "#####\n",
    "data_path2 = ['../../data']\n",
    "file_path = os.sep.join(data_path2 + ['Orange_Telecom_Churn_Data.csv'])\n",
    "data = pd.read_csv(file_path)"
   ]
  },
  {
   "cell_type": "code",
   "execution_count": 3,
   "metadata": {},
   "outputs": [],
   "source": [
    "def accuracy(real, predict):\n",
    "    return sum(real == predict) / float(real.shape[0])"
   ]
  },
  {
   "cell_type": "markdown",
   "metadata": {},
   "source": [
    "## Predict Algorithm\n",
    "\n",
    "Type your source code (Champion Algorithm)"
   ]
  },
  {
   "cell_type": "code",
   "execution_count": 4,
   "metadata": {},
   "outputs": [],
   "source": [
    "# drop_cols = ['phone_number', 'state']\n",
    "binary_cols = ['intl_plan', 'voice_mail_plan', 'churned']\n",
    "drop_cols = ['state', 'phone_number', 'total_day_charge', 'total_eve_charge', 'total_night_charge', 'total_intl_charge']\n",
    "\n",
    "data.drop(drop_cols, axis = 1, inplace = True)\n",
    "\n",
    "# String to Number\n",
    "from sklearn.preprocessing import LabelBinarizer\n",
    "lb = LabelBinarizer()\n",
    "\n",
    "for col in binary_cols:\n",
    "    data[col] = lb.fit_transform(data[col])\n",
    "    \n",
    "# # Mute the sklearn warning\n",
    "# import warnings\n",
    "# warnings.filterwarnings('ignore', module='sklearn')\n",
    "\n",
    "# #Type your source code\n",
    "# from sklearn.preprocessing import MinMaxScaler\n",
    "# msc = MinMaxScaler()\n",
    "\n",
    "# data = pd.DataFrame(msc.fit_transform(data), columns=data.columns)"
   ]
  },
  {
   "cell_type": "code",
   "execution_count": 5,
   "metadata": {},
   "outputs": [],
   "source": [
    "# Data Plot\n",
    "# import matplotlib.pyplot as plt\n",
    "# import seaborn as sns\n",
    "# %matplotlib inline\n",
    "\n",
    "# from pandas.plotting import parallel_coordinates\n",
    "\n",
    "# plt.figure()\n",
    "# data.boxplot(by=\"churned\", figsize=(15, 10))\n",
    "# plt.show()"
   ]
  },
  {
   "cell_type": "code",
   "execution_count": 6,
   "metadata": {},
   "outputs": [],
   "source": [
    "# Data Plot\n",
    "# plt.figure()\n",
    "# sns.pairplot(data, hue = \"churned\", size=3, markers=[\"o\", \"s\"])\n",
    "# plt.show().plt.figure()\n",
    "# dataset.boxplot(by=\"churned\", figsize=(15, 10))\n",
    "# plt.show()"
   ]
  },
  {
   "cell_type": "code",
   "execution_count": null,
   "metadata": {},
   "outputs": [],
   "source": [
    "def remove_outliers():\n",
    "\n",
    "    df = data.copy(deep=True)\n",
    "\n",
    "    types = df['churned'].unique()\n",
    "    d = {type: df[df['churned'] == type] for type in types}\n",
    "\n",
    "    low = .25\n",
    "    high = .75\n",
    "\n",
    "    bounds = {}\n",
    "    for type in types:\n",
    "        filt_df = d[type].loc[:, d[type].columns != 'churned']\n",
    "        quant_df = filt_df.quantile([low, high])\n",
    "        IQR = quant_df.iloc[1,:]- quant_df.iloc[0,:]\n",
    "        quant_df.iloc[0,:] = quant_df.iloc[0,:] - 1.5*IQR\n",
    "        quant_df.iloc[1,:] = quant_df.iloc[1,:] + 1.5*IQR\n",
    "        bounds[type] = quant_df\n",
    "\n",
    "    filt_df = d[1].loc[:, d[1].columns != 'churned'] # Remove 'Type' Column\n",
    "    filt_df = filt_df.apply(lambda x: x[(x>bounds[1].loc[low,x.name]) & (x < bounds[1].loc[high,x.name])], axis=0)\n",
    "    filt_df = pd.concat([filt_df,d[1].loc[:,'churned']], axis=1)"
   ]
  },
  {
   "cell_type": "code",
   "execution_count": 7,
   "metadata": {},
   "outputs": [],
   "source": [
    "# Data Processing\n",
    "X_data = data[data.columns[:-1]]\n",
    "y_data = data.churned\n",
    "\n",
    "from sklearn.model_selection import train_test_split\n",
    "# Split as train data and test data\n",
    "x_train, x_test, y_train, y_test = train_test_split(X_data, y_data, test_size=0.8, shuffle=True)"
   ]
  },
  {
   "cell_type": "code",
   "execution_count": 8,
   "metadata": {
    "scrolled": true
   },
   "outputs": [
    {
     "name": "stderr",
     "output_type": "stream",
     "text": [
      "C:\\Users\\ys\\Anaconda3\\lib\\site-packages\\ipykernel_launcher.py:1: SettingWithCopyWarning: \n",
      "A value is trying to be set on a copy of a slice from a DataFrame.\n",
      "Try using .loc[row_indexer,col_indexer] = value instead\n",
      "\n",
      "See the caveats in the documentation: http://pandas.pydata.org/pandas-docs/stable/indexing.html#indexing-view-versus-copy\n",
      "  \"\"\"Entry point for launching an IPython kernel.\n",
      "C:\\Users\\ys\\Anaconda3\\lib\\site-packages\\ipykernel_launcher.py:2: SettingWithCopyWarning: \n",
      "A value is trying to be set on a copy of a slice from a DataFrame.\n",
      "Try using .loc[row_indexer,col_indexer] = value instead\n",
      "\n",
      "See the caveats in the documentation: http://pandas.pydata.org/pandas-docs/stable/indexing.html#indexing-view-versus-copy\n",
      "  \n",
      "C:\\Users\\ys\\Anaconda3\\lib\\site-packages\\sklearn\\ensemble\\weight_boosting.py:29: DeprecationWarning: numpy.core.umath_tests is an internal NumPy module and should not be imported. It will be removed in a future NumPy release.\n",
      "  from numpy.core.umath_tests import inner1d\n"
     ]
    },
    {
     "name": "stdout",
     "output_type": "stream",
     "text": [
      "0.9425\n",
      "0.944\n"
     ]
    }
   ],
   "source": [
    "x_train['big_calls'] = x_train['number_customer_service_calls'].apply(lambda x: 0 if x < x_train.loc[:,'number_customer_service_calls'].mean() else 1)\n",
    "x_test['big_calls'] = x_test['number_customer_service_calls'].apply(lambda x: 0 if x < x_test.loc[:,'number_customer_service_calls'].mean() else 1)\n",
    "\n",
    "# Bagging\n",
    "from sklearn.ensemble import BaggingClassifier\n",
    "BC = BaggingClassifier(n_estimators=100)\n",
    "BC = BC.fit(x_train, y_train)\n",
    "y_pred = BC.predict(x_test)\n",
    "print(accuracy(y_test, y_pred))\n",
    "\n",
    "# RandomForest\n",
    "from sklearn.ensemble import RandomForestClassifier\n",
    "model = RandomForestClassifier(n_estimators = 1000, max_features = 6, n_jobs = -1, min_samples_leaf = 1)\n",
    "model = model.fit(x_train, y_train)\n",
    "y_pred = model.predict(x_test)\n",
    "print(accuracy(y_test, y_pred))\n",
    "\n",
    "\n",
    "# End of Demo"
   ]
  },
  {
   "cell_type": "markdown",
   "metadata": {},
   "source": [
    "## Check Accuracy\n",
    "\n",
    "Only for check accuracy"
   ]
  },
  {
   "cell_type": "code",
   "execution_count": 9,
   "metadata": {},
   "outputs": [
    {
     "ename": "NameError",
     "evalue": "name 'tkinter' is not defined",
     "output_type": "error",
     "traceback": [
      "\u001b[1;31m---------------------------------------------------------------------------\u001b[0m",
      "\u001b[1;31mNameError\u001b[0m                                 Traceback (most recent call last)",
      "\u001b[1;32m<ipython-input-9-3d12064c3369>\u001b[0m in \u001b[0;36m<module>\u001b[1;34m()\u001b[0m\n\u001b[0;32m      2\u001b[0m     \u001b[1;32mreturn\u001b[0m \u001b[0msum\u001b[0m\u001b[1;33m(\u001b[0m\u001b[0mreal\u001b[0m \u001b[1;33m==\u001b[0m \u001b[0mpredict\u001b[0m\u001b[1;33m)\u001b[0m \u001b[1;33m/\u001b[0m \u001b[0mfloat\u001b[0m\u001b[1;33m(\u001b[0m\u001b[0mreal\u001b[0m\u001b[1;33m.\u001b[0m\u001b[0mshape\u001b[0m\u001b[1;33m[\u001b[0m\u001b[1;36m0\u001b[0m\u001b[1;33m]\u001b[0m\u001b[1;33m)\u001b[0m\u001b[1;33m\u001b[0m\u001b[0m\n\u001b[0;32m      3\u001b[0m \u001b[1;33m\u001b[0m\u001b[0m\n\u001b[1;32m----> 4\u001b[1;33m \u001b[0mtk_window\u001b[0m \u001b[1;33m=\u001b[0m \u001b[0mtkinter\u001b[0m\u001b[1;33m.\u001b[0m\u001b[0mTk\u001b[0m\u001b[1;33m(\u001b[0m\u001b[1;33m)\u001b[0m\u001b[1;33m\u001b[0m\u001b[0m\n\u001b[0m\u001b[0;32m      5\u001b[0m \u001b[0mcwd\u001b[0m \u001b[1;33m=\u001b[0m \u001b[0mos\u001b[0m\u001b[1;33m.\u001b[0m\u001b[0mgetcwd\u001b[0m\u001b[1;33m(\u001b[0m\u001b[1;33m)\u001b[0m\u001b[1;33m\u001b[0m\u001b[0m\n\u001b[0;32m      6\u001b[0m \u001b[0mts_ans\u001b[0m \u001b[1;33m=\u001b[0m \u001b[0mpd\u001b[0m\u001b[1;33m.\u001b[0m\u001b[0mread_csv\u001b[0m\u001b[1;33m(\u001b[0m\u001b[0maskopenfilename\u001b[0m\u001b[1;33m(\u001b[0m\u001b[0mtitle\u001b[0m\u001b[1;33m=\u001b[0m\u001b[1;34m'Choose your test answer'\u001b[0m\u001b[1;33m)\u001b[0m\u001b[1;33m)\u001b[0m\u001b[1;33m\u001b[0m\u001b[0m\n",
      "\u001b[1;31mNameError\u001b[0m: name 'tkinter' is not defined"
     ]
    }
   ],
   "source": [
    "def accuracy(real, predict):\n",
    "    return sum(real == predict) / float(real.shape[0])\n",
    "\n",
    "tk_window = tkinter.Tk()\n",
    "cwd = os.getcwd()\n",
    "ts_ans = pd.read_csv(askopenfilename(title='Choose your test answer'))\n",
    "ts_ans = ts_ans.iloc[:, 0]\n",
    "tk_window.destroy()\n",
    "\n",
    "print(accuracy(ts_ans, y_pred))"
   ]
  },
  {
   "cell_type": "code",
   "execution_count": null,
   "metadata": {},
   "outputs": [],
   "source": []
  }
 ],
 "metadata": {
  "kernelspec": {
   "display_name": "Python 3",
   "language": "python",
   "name": "python3"
  },
  "language_info": {
   "codemirror_mode": {
    "name": "ipython",
    "version": 3
   },
   "file_extension": ".py",
   "mimetype": "text/x-python",
   "name": "python",
   "nbconvert_exporter": "python",
   "pygments_lexer": "ipython3",
   "version": "3.7.0"
  }
 },
 "nbformat": 4,
 "nbformat_minor": 2
}
