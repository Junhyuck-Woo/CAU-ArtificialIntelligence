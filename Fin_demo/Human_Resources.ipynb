{
 "cells": [
  {
   "cell_type": "markdown",
   "metadata": {},
   "source": [
    "# Classification Project\n",
    "### Author: HyeongCheol Shin\n",
    "### Date: Dec 13, 2018\n",
    "### Data: Human_Resources"
   ]
  },
  {
   "cell_type": "markdown",
   "metadata": {},
   "source": [
    "## File IO\n",
    "\n",
    "Only File IO...\n",
    "\n",
    "You may not change this code."
   ]
  },
  {
   "cell_type": "code",
   "execution_count": 1,
   "metadata": {},
   "outputs": [
    {
     "name": "stderr",
     "output_type": "stream",
     "text": [
      "D:\\Anaconda3\\lib\\site-packages\\ipykernel\\parentpoller.py:116: UserWarning: Parent poll failed.  If the frontend dies,\n",
      "                the kernel may be left running.  Please let us know\n",
      "                about your system (bitness, Python, etc.) at\n",
      "                ipython-dev@scipy.org\n",
      "  ipython-dev@scipy.org\"\"\")\n"
     ]
    }
   ],
   "source": [
    "from tkinter.filedialog import askopenfilename\n",
    "import pandas as pd\n",
    "import tkinter\n",
    "import os\n",
    "\n",
    "tk_window = tkinter.Tk()\n",
    "cwd = os.getcwd()\n",
    "\n",
    "tr_data = pd.read_csv(askopenfilename(title='Choose your training data'))\n",
    "\n",
    "tr_ans = pd.read_csv(askopenfilename(title='Choose your training answer'))\n",
    "\n",
    "tr_ans = tr_ans.iloc[:, 0]\n",
    "\n",
    "ts_data = pd.read_csv(askopenfilename(title='Choose your test data'))\n",
    "\n",
    "tk_window.destroy()\n",
    "\n"
   ]
  },
  {
   "cell_type": "markdown",
   "metadata": {},
   "source": [
    "## Predict Algorithm\n",
    "\n",
    "Type your source code (Champion Algorithm)"
   ]
  },
  {
   "cell_type": "code",
   "execution_count": 3,
   "metadata": {},
   "outputs": [
    {
     "name": "stdout",
     "output_type": "stream",
     "text": [
      "BaggingClassifier(base_estimator=None, bootstrap=True,\n",
      "         bootstrap_features=False, max_features=4, max_samples=1.0,\n",
      "         n_estimators=700, n_jobs=-1, oob_score=False, random_state=None,\n",
      "         verbose=0, warm_start=True)\n"
     ]
    }
   ],
   "source": [
    "import numpy as np\n",
    "import pandas as pd\n",
    "import seaborn as sns\n",
    "import matplotlib.pyplot as plt\n",
    "\n",
    "from sklearn.metrics import confusion_matrix\n",
    "from sklearn.metrics import classification_report\n",
    "from sklearn.metrics import accuracy_score\n",
    "from sklearn.metrics import precision_recall_fscore_support\n",
    "from sklearn.model_selection import train_test_split\n",
    "from sklearn.externals import joblib\n",
    "from sklearn.tree import DecisionTreeClassifier\n",
    "from sklearn.linear_model import LinearRegression\n",
    "from sklearn.naive_bayes import GaussianNB\n",
    "from sklearn.naive_bayes import BernoulliNB, MultinomialNB\n",
    "from sklearn.naive_bayes import MultinomialNB\n",
    "from sklearn.neighbors import KNeighborsClassifier\n",
    "from sklearn.preprocessing import LabelEncoder\n",
    "from sklearn.svm import LinearSVC\n",
    "from sklearn.preprocessing import LabelBinarizer\n",
    "from sklearn.preprocessing import MinMaxScaler\n",
    "from sklearn.ensemble import BaggingClassifier\n",
    "from sklearn.ensemble import RandomForestClassifier\n",
    "from sklearn.ensemble import GradientBoostingClassifier\n",
    "from sklearn.model_selection import cross_val_score\n",
    "from sklearn.linear_model import LogisticRegression\n",
    "from sklearn.linear_model import LogisticRegressionCV\n",
    "from sklearn.feature_selection import RFE\n",
    "\n",
    "x_train = tr_data.copy()\n",
    "y_train = tr_ans.copy()\n",
    "x_test = ts_data.copy()\n",
    "\n",
    "# Data processing\n",
    "lb = LabelBinarizer()\n",
    "enc = LabelEncoder()\n",
    "scaler = MinMaxScaler()\n",
    "\n",
    "drop_cols = ['average_monthly_hours', 'number_of_projects', 'work_accident', 'left']\n",
    "binary_cols = []\n",
    "encode_cols = ['department']\n",
    "scaled_cols = ['years_at_company', 'satisfaction_level', 'last_evaluation']\n",
    "\n",
    "for col in scaled_cols:\n",
    "    x_train[col] = x_train[col] / x_train[col].max()\n",
    "    x_test[col] = x_test[col] / x_test[col].max()\n",
    "\n",
    "x_train['work_point'] = (x_train['average_monthly_hours'] / 15.0) + x_train['number_of_projects']\n",
    "x_test['work_point'] = (x_test['average_monthly_hours'] / 15.0) + x_test['number_of_projects']\n",
    "\n",
    "#x_train['perf_point'] = x_train['last_evaluation'] * 2.0 - x_train['years_at_company']\n",
    "#x_test['perf_point'] = x_test['last_evaluation'] * 2.0 - x_test['years_at_company']\n",
    "\n",
    "#x_train['eval_point'] = x_train['satisfaction_level'] - x_train['last_evaluation']\n",
    "#x_test['eval_point'] = x_test['satisfaction_level'] - x_test['last_evaluation']\n",
    "\n",
    "x_train['promoted'] = x_train['promotion_last_5years'] * x_train['last_evaluation']\n",
    "x_test['promoted'] = x_test['promotion_last_5years'] * x_test['last_evaluation']\n",
    "\n",
    "x_train.drop(drop_cols, axis = 1, inplace = True)\n",
    "x_test.drop(drop_cols, axis = 1, inplace = True)\n",
    "\n",
    "for col in binary_cols:\n",
    "    x_train[col] = lb.fit_transform(x_train[col])\n",
    "    x_test[col] = lb.fit_transform(x_test[col])\n",
    "\n",
    "for col in encode_cols:\n",
    "    x_train[col] = enc.fit_transform(x_train[col])\n",
    "    x_test[col] = enc.fit_transform(x_test[col])    \n",
    "\n",
    "#x_train = x_train[:-11000]\n",
    "#y_train = y_train[:-11000]\n",
    "\n",
    "if len(x_train) <= 100:\n",
    "    model = MultinomialNB(alpha = 0.7)\n",
    "else:\n",
    "    model = BaggingClassifier(n_estimators = 700, max_features = 4, n_jobs = -1, warm_start = True)\n",
    "\n",
    "# Model definition\n",
    "#for i in range(1, 10):\n",
    "    #model.n_estimators += 100\n",
    "    #model = model.fit(x_train, y_train)\n",
    "    #print('done')\n",
    "#model = RandomForestClassifier(n_estimators = 2000, max_features = 4, n_jobs = -1, min_samples_leaf = 1)\n",
    "    \n",
    "# Train\n",
    "model = model.fit(x_train, y_train)\n",
    "\n",
    "# Test\n",
    "y_pred = model.predict(x_test)\n",
    "\n",
    "pred_df = pd.DataFrame(y_pred)\n",
    "\n",
    "pred_df.to_csv(\"output.csv\", mode='w')\n",
    "\n",
    "# End of Demo"
   ]
  },
  {
   "cell_type": "markdown",
   "metadata": {},
   "source": [
    "## Check Accuracy\n",
    "\n",
    "Only for check accuracy"
   ]
  },
  {
   "cell_type": "code",
   "execution_count": 4,
   "metadata": {},
   "outputs": [
    {
     "name": "stdout",
     "output_type": "stream",
     "text": [
      "0.6235411803934645\n"
     ]
    }
   ],
   "source": [
    "def accuracy(real, predict):\n",
    "    return sum(real == predict) / float(real.shape[0])\n",
    "\n",
    "tk_window = tkinter.Tk()\n",
    "cwd = os.getcwd()\n",
    "ts_ans = pd.read_csv(askopenfilename(title='Choose your test answer'))\n",
    "ts_ans = ts_ans.iloc[:, 0]\n",
    "tk_window.destroy()\n",
    "\n",
    "print(accuracy(ts_ans, y_pred))"
   ]
  },
  {
   "cell_type": "code",
   "execution_count": null,
   "metadata": {},
   "outputs": [],
   "source": []
  }
 ],
 "metadata": {
  "kernelspec": {
   "display_name": "Python 3",
   "language": "python",
   "name": "python3"
  },
  "language_info": {
   "codemirror_mode": {
    "name": "ipython",
    "version": 3
   },
   "file_extension": ".py",
   "mimetype": "text/x-python",
   "name": "python",
   "nbconvert_exporter": "python",
   "pygments_lexer": "ipython3",
   "version": "3.5.0"
  }
 },
 "nbformat": 4,
 "nbformat_minor": 2
}
