{
 "cells": [
  {
   "cell_type": "markdown",
   "metadata": {},
   "source": [
    "# Classification Project\n",
    "### Author: Junhuuck Woo\n",
    "### Date: Dec 13, 2018\n",
    "### Data: Human_Activity_Recognition_Using_Smartphones"
   ]
  },
  {
   "cell_type": "markdown",
   "metadata": {},
   "source": [
    "## File IO\n",
    "\n",
    "Only File IO...\n",
    "\n",
    "You may not change this code."
   ]
  },
  {
   "cell_type": "code",
   "execution_count": 1,
   "metadata": {},
   "outputs": [],
   "source": [
    "from tkinter.filedialog import askopenfilename\n",
    "import pandas as pd\n",
    "import tkinter\n",
    "import os\n",
    "\n",
    "tk_window = tkinter.Tk()\n",
    "cwd = os.getcwd()\n",
    "\n",
    "tr_data = pd.read_csv(askopenfilename(title='Choose your training data'))\n",
    "\n",
    "tr_ans = pd.read_csv(askopenfilename(title='Choose your training answer'))\n",
    "\n",
    "tr_ans = tr_ans.iloc[:, 0]\n",
    "\n",
    "ts_data = pd.read_csv(askopenfilename(title='Choose your test data'))\n",
    "\n",
    "tk_window.destroy()\n",
    "\n"
   ]
  },
  {
   "cell_type": "markdown",
   "metadata": {},
   "source": [
    "## Predict Algorithm\n",
    "\n",
    "Type your source code (Champion Algorithm)"
   ]
  },
  {
   "cell_type": "code",
   "execution_count": 7,
   "metadata": {},
   "outputs": [],
   "source": [
    "from sklearn.ensemble import GradientBoostingClassifier\n",
    "from sklearn.metrics import accuracy_score\n",
    "import seaborn as sns\n",
    "import pandas as pd\n",
    "import time"
   ]
  },
  {
   "cell_type": "code",
   "execution_count": 73,
   "metadata": {},
   "outputs": [],
   "source": [
    "data = pd.read_csv(\"test/Human_Activity_Recognition_Using_Smartphones_Data/data.csv\")\n",
    "label = pd.read_csv(\"test/Human_Activity_Recognition_Using_Smartphones_Data/answer.csv\")\n",
    "from sklearn.model_selection import train_test_split\n",
    "tr_data, ts_data, tr_ans, ts_ans = train_test_split(data, label, test_size=0.3, shuffle=True)"
   ]
  },
  {
   "cell_type": "code",
   "execution_count": 74,
   "metadata": {
    "scrolled": true
   },
   "outputs": [
    {
     "name": "stdout",
     "output_type": "stream",
     "text": [
      "7209\n"
     ]
    },
    {
     "name": "stderr",
     "output_type": "stream",
     "text": [
      "/Users/junhyuckwoo/capstone/lib/python3.5/site-packages/sklearn/utils/validation.py:578: DataConversionWarning: A column-vector y was passed when a 1d array was expected. Please change the shape of y to (n_samples, ), for example using ravel().\n",
      "  y = column_or_1d(y, warn=True)\n"
     ]
    },
    {
     "name": "stdout",
     "output_type": "stream",
     "text": [
      "0 0.9851132686084142\n",
      "Max:  0.9851132686084142\n",
      "Min:  0.9851132686084142\n",
      "52.43115999999986\n"
     ]
    }
   ],
   "source": [
    "start = time.clock()\n",
    "y_pred = []\n",
    "l = []\n",
    "ans = []\n",
    "\n",
    "size = tr_data.shape[0]\n",
    "print(size)\n",
    "if size <= 2000:\n",
    "    iteration = 4\n",
    "    estimator = 20\n",
    "elif size <=3000:\n",
    "    iteration = 3\n",
    "    estimator = 20\n",
    "elif size < 4000:\n",
    "    iteration = 2\n",
    "    estimator = 30\n",
    "elif size > 8000:\n",
    "    iteration = 1\n",
    "    estimator = 27\n",
    "else:\n",
    "    iteration = 1\n",
    "    estimator = 35\n",
    "    \n",
    "    \n",
    "for i in range(iteration):\n",
    "    model = GradientBoostingClassifier(n_estimators=estimator,learning_rate=0.375)\n",
    "    model = model.fit(tr_data, tr_ans)\n",
    "    y_pred.append(model.predict(ts_data))\n",
    "    l.append(accuracy_score(ts_ans, model.predict(ts_data)))\n",
    "    print(i, l[i])\n",
    "pred_df = pd.DataFrame(y_pred)\n",
    "\n",
    "#pred_df.to_csv(\"Human_Activity_Recognition_Using_Smartphones.csv\", mode='w')\n",
    "#print(accuracy_score(ts_ans, y_pred))\n",
    "print('Max: ', max(l))\n",
    "print('Min: ', min(l))\n",
    "from collections import Counter\n",
    "for i in range(len(ts_ans)):\n",
    "    k = Counter(pred_df[i])\n",
    "    ans.append(k.most_common(1)[0][0])\n",
    "print(time.clock()-start)"
   ]
  },
  {
   "cell_type": "markdown",
   "metadata": {},
   "source": [
    "## Check Accuracy\n",
    "\n",
    "Only for check accuracy"
   ]
  },
  {
   "cell_type": "code",
   "execution_count": 10,
   "metadata": {},
   "outputs": [
    {
     "name": "stdout",
     "output_type": "stream",
     "text": [
      "0.9859154929577465\n"
     ]
    }
   ],
   "source": [
    "def accuracy(real, predict):\n",
    "    return sum(real == predict) / float(real.shape[0])\n",
    "\n",
    "tk_window = tkinter.Tk()\n",
    "cwd = os.getcwd()\n",
    "ts_ans = pd.read_csv(askopenfilename(title='Choose your test answer'))\n",
    "ts_ans = ts_ans.iloc[:, 0]\n",
    "tk_window.destroy()\n",
    "\n",
    "print(accuracy(ts_ans, y_pred))"
   ]
  },
  {
   "cell_type": "code",
   "execution_count": null,
   "metadata": {},
   "outputs": [],
   "source": []
  }
 ],
 "metadata": {
  "kernelspec": {
   "display_name": "Python 3",
   "language": "python",
   "name": "python3"
  },
  "language_info": {
   "codemirror_mode": {
    "name": "ipython",
    "version": 3
   },
   "file_extension": ".py",
   "mimetype": "text/x-python",
   "name": "python",
   "nbconvert_exporter": "python",
   "pygments_lexer": "ipython3",
   "version": "3.5.0"
  }
 },
 "nbformat": 4,
 "nbformat_minor": 2
}
