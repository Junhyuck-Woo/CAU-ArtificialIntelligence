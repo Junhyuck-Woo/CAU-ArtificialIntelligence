{
 "cells": [
  {
   "cell_type": "markdown",
   "metadata": {},
   "source": [
    "# Classification Project\n",
    "### Author: HyeongCheol Shin\n",
    "### Date: Dec 13 2018\n",
    "### Data: Orange_Telecom"
   ]
  },
  {
   "cell_type": "markdown",
   "metadata": {},
   "source": [
    "## File IO\n",
    "\n",
    "Only File IO...\n",
    "\n",
    "You may not change this code."
   ]
  },
  {
   "cell_type": "code",
   "execution_count": 2,
   "metadata": {},
   "outputs": [],
   "source": [
    "from tkinter.filedialog import askopenfilename\n",
    "import pandas as pd\n",
    "import tkinter\n",
    "import os\n",
    "\n",
    "tk_window = tkinter.Tk()\n",
    "cwd = os.getcwd()\n",
    "\n",
    "tr_data = pd.read_csv(askopenfilename(title='Choose your training data'))\n",
    "\n",
    "tr_ans = pd.read_csv(askopenfilename(title='Choose your training answer'))\n",
    "\n",
    "tr_ans = tr_ans.iloc[:, 0]\n",
    "\n",
    "ts_data = pd.read_csv(askopenfilename(title='Choose your test data'))\n",
    "\n",
    "tk_window.destroy()\n",
    "\n"
   ]
  },
  {
   "cell_type": "markdown",
   "metadata": {},
   "source": [
    "## Predict Algorithm\n",
    "\n",
    "Type your source code (Champion Algorithm)"
   ]
  },
  {
   "cell_type": "code",
   "execution_count": 3,
   "metadata": {
    "scrolled": true
   },
   "outputs": [
    {
     "name": "stderr",
     "output_type": "stream",
     "text": [
      "D:\\Anaconda3\\lib\\site-packages\\sklearn\\ensemble\\weight_boosting.py:29: DeprecationWarning: numpy.core.umath_tests is an internal NumPy module and should not be imported. It will be removed in a future NumPy release.\n",
      "  from numpy.core.umath_tests import inner1d\n"
     ]
    }
   ],
   "source": [
    "import numpy as np\n",
    "import pandas as pd\n",
    "import seaborn as sns\n",
    "import matplotlib.pyplot as plt\n",
    "\n",
    "from sklearn.metrics import confusion_matrix\n",
    "from sklearn.metrics import classification_report\n",
    "from sklearn.metrics import accuracy_score\n",
    "from sklearn.metrics import precision_recall_fscore_support\n",
    "from sklearn.model_selection import train_test_split\n",
    "from sklearn.externals import joblib\n",
    "from sklearn.tree import DecisionTreeClassifier\n",
    "from sklearn.linear_model import LinearRegression\n",
    "from sklearn.naive_bayes import GaussianNB\n",
    "from sklearn.naive_bayes import BernoulliNB, MultinomialNB\n",
    "from sklearn.naive_bayes import MultinomialNB\n",
    "from sklearn.neighbors import KNeighborsClassifier\n",
    "from sklearn.svm import LinearSVC\n",
    "from sklearn.preprocessing import LabelBinarizer\n",
    "from sklearn.preprocessing import LabelEncoder\n",
    "from sklearn.preprocessing import MinMaxScaler\n",
    "from sklearn.ensemble import BaggingClassifier\n",
    "from sklearn.ensemble import RandomForestClassifier\n",
    "from sklearn.ensemble import GradientBoostingClassifier\n",
    "from sklearn.model_selection import cross_val_score\n",
    "from sklearn.linear_model import LogisticRegression\n",
    "from sklearn.linear_model import LogisticRegressionCV\n",
    "from sklearn.model_selection import GridSearchCV\n",
    "from sklearn.neural_network import MLPClassifier\n",
    "from sklearn.feature_selection import RFE\n",
    "\n",
    "\n",
    "x_train = tr_data.copy()\n",
    "y_train = tr_ans.copy()\n",
    "x_test = ts_data.copy()\n",
    "\n",
    "# Data processing\n",
    "lb = LabelBinarizer()\n",
    "enc = LabelEncoder()\n",
    "\n",
    "drop_cols = ['state', 'phone_number', 'total_eve_charge', 'total_night_charge', 'total_intl_charge']\n",
    "binary_cols = ['intl_plan', 'voice_mail_plan']\n",
    "encode_cols = []\n",
    "\n",
    "x_train.drop(drop_cols, axis = 1, inplace = True)\n",
    "x_test.drop(drop_cols, axis = 1, inplace = True)\n",
    "\n",
    "for col in binary_cols:\n",
    "    x_train[col] = lb.fit_transform(x_train[col])\n",
    "    x_test[col] = lb.fit_transform(x_test[col])\n",
    "\n",
    "for col in encode_cols:\n",
    "    x_train[col] = enc.fit_transform(x_train[col])\n",
    "    x_test[col] = enc.fit_transform(x_test[col])\n",
    "    \n",
    "x_train['big_calls'] = x_train['number_customer_service_calls'].apply(lambda x: 0 if x < x_train.loc[:,'number_customer_service_calls'].mean() else 1)\n",
    "x_test['big_calls'] = x_test['number_customer_service_calls'].apply(lambda x: 0 if x < x_test.loc[:,'number_customer_service_calls'].mean() else 1)\n",
    "\n",
    "#x_train['night_sum'] = x_train['total_eve_minutes'].apply(lambda x: x + x_train.loc[:,'total_night_minutes'].mean())\n",
    "#x_test['night_sum'] = x_test['total_eve_minutes'].apply(lambda x: x + x_test.loc[:,'total_night_minutes'].mean())\n",
    "\n",
    "#x_train['big_usage'] = x_train['total_day_minutes'].apply(lambda x: 0 if x < x_train.loc[:,'total_day_minutes'].mean() else 1)\n",
    "#x_test['big_usage'] = x_test['total_day_minutes'].apply(lambda x: 0 if x < x_test.loc[:,'total_day_minutes'].mean() else 1)\n",
    "\n",
    "# Model definition\n",
    "model = RandomForestClassifier(n_estimators = 1000, max_features = 6, n_jobs = -1, min_samples_leaf = 1)\n",
    "\n",
    "# Train\n",
    "model = model.fit(x_train, y_train)\n",
    "\n",
    "# Test\n",
    "y_pred = model.predict(x_test)\n",
    "\n",
    "pred_df = pd.DataFrame(y_pred)\n",
    "\n",
    "pred_df.to_csv(\"output.csv\", mode='w')\n",
    "\n",
    "# End of Demo"
   ]
  },
  {
   "cell_type": "markdown",
   "metadata": {},
   "source": [
    "## Check Accuracy\n",
    "\n",
    "Only for check accuracy"
   ]
  },
  {
   "cell_type": "code",
   "execution_count": 4,
   "metadata": {},
   "outputs": [
    {
     "name": "stdout",
     "output_type": "stream",
     "text": [
      "0.959\n"
     ]
    }
   ],
   "source": [
    "def accuracy(real, predict):\n",
    "    return sum(real == predict) / float(real.shape[0])\n",
    "\n",
    "tk_window = tkinter.Tk()\n",
    "cwd = os.getcwd()\n",
    "ts_ans = pd.read_csv(askopenfilename(title='Choose your test answer'))\n",
    "ts_ans = ts_ans.iloc[:, 0]\n",
    "tk_window.destroy()\n",
    "\n",
    "print(accuracy(ts_ans, y_pred))"
   ]
  },
  {
   "cell_type": "code",
   "execution_count": null,
   "metadata": {},
   "outputs": [],
   "source": []
  }
 ],
 "metadata": {
  "kernelspec": {
   "display_name": "Python 3",
   "language": "python",
   "name": "python3"
  },
  "language_info": {
   "codemirror_mode": {
    "name": "ipython",
    "version": 3
   },
   "file_extension": ".py",
   "mimetype": "text/x-python",
   "name": "python",
   "nbconvert_exporter": "python",
   "pygments_lexer": "ipython3",
   "version": "3.5.0"
  }
 },
 "nbformat": 4,
 "nbformat_minor": 2
}
