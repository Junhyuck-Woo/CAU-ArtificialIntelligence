{
 "cells": [
  {
   "cell_type": "markdown",
   "metadata": {},
   "source": [
    "# Classification Project"
   ]
  },
  {
   "cell_type": "markdown",
   "metadata": {},
   "source": [
    "## File IO\n",
    "\n",
    "Only File IO...\n",
    "\n",
    "You may not change this code."
   ]
  },
  {
   "cell_type": "code",
   "execution_count": 1,
   "metadata": {},
   "outputs": [],
   "source": [
    "# Base Module of data processing\n",
    "import numpy as np\n",
    "import pandas as pd\n",
    "import seaborn as sns\n",
    "import matplotlib.pyplot as plt\n",
    "import glob\n",
    "\n",
    "from scipy.spatial.distance import pdist, squareform\n",
    "from sklearn.model_selection import cross_val_score\n",
    "from sklearn.metrics import confusion_matrix\n",
    "from sklearn.metrics import classification_report\n",
    "from sklearn.metrics import accuracy_score\n",
    "from sklearn.metrics import precision_recall_fscore_support\n",
    "from sklearn.model_selection import train_test_split\n",
    "from sklearn.externals import joblib"
   ]
  },
  {
   "cell_type": "code",
   "execution_count": 2,
   "metadata": {},
   "outputs": [],
   "source": [
    "from tkinter.filedialog import askopenfilename\n",
    "import pandas as pd\n",
    "import tkinter\n",
    "import os\n",
    "\n",
    "tk_window = tkinter.Tk()\n",
    "cwd = os.getcwd()\n",
    "\n",
    "tr_data = pd.read_csv(askopenfilename(title='Choose your training data'))\n",
    "\n",
    "tr_ans = pd.read_csv(askopenfilename(title='Choose your training answer'))\n",
    "\n",
    "tr_ans = tr_ans.iloc[:, 0]\n",
    "\n",
    "ts_data = pd.read_csv(askopenfilename(title='Choose your test data'))\n",
    "\n",
    "tk_window.destroy()"
   ]
  },
  {
   "cell_type": "markdown",
   "metadata": {},
   "source": [
    "## Predict Algorithm\n",
    "\n",
    "Type your source code (Champion Algorithm)"
   ]
  },
  {
   "cell_type": "code",
   "execution_count": 3,
   "metadata": {},
   "outputs": [],
   "source": [
    "tr_data.drop(['quality'], axis=1, inplace=True)\n",
    "ts_data.drop(['quality'], axis=1, inplace=True)\n",
    "\n",
    "s1 = pd.Series(tr_ans, name = 'color')\n",
    "data = pd.concat([tr_data, s1], axis=1)\n",
    "\n",
    "original_data = data.copy()"
   ]
  },
  {
   "cell_type": "code",
   "execution_count": 4,
   "metadata": {},
   "outputs": [],
   "source": [
    "def remove_outliers():\n",
    "\n",
    "    df = data.copy(deep=True)\n",
    "\n",
    "    types = df['color'].unique()\n",
    "    d = {type: df[df['color'] == type] for type in types}\n",
    "\n",
    "    low = .25\n",
    "    high = .75\n",
    "\n",
    "    bounds = {}\n",
    "    for type in types:\n",
    "        filt_df = d[type].loc[:, d[type].columns != 'color']\n",
    "        quant_df = filt_df.quantile([low, high])\n",
    "        IQR = quant_df.iloc[1,:]- quant_df.iloc[0,:]\n",
    "        quant_df.iloc[0,:] = quant_df.iloc[0,:] - 1.5*IQR\n",
    "        quant_df.iloc[1,:] = quant_df.iloc[1,:] + 1.5*IQR\n",
    "        bounds[type] = quant_df\n",
    "\n",
    "    filt_df = d[1].loc[:, d[1].columns != 'color'] # Remove 'Type' Column\n",
    "    filt_df = filt_df.apply(lambda x: x[(x>bounds[1].loc[low,x.name]) & (x < bounds[1].loc[high,x.name])], axis=0)\n",
    "    filt_df = pd.concat([filt_df,d[1].loc[:,'color']], axis=1)"
   ]
  },
  {
   "cell_type": "code",
   "execution_count": 5,
   "metadata": {},
   "outputs": [],
   "source": [
    "if data.shape[0] < 3250:\n",
    "    remove_outliers()"
   ]
  },
  {
   "cell_type": "code",
   "execution_count": 6,
   "metadata": {},
   "outputs": [
    {
     "name": "stdout",
     "output_type": "stream",
     "text": [
      "[0 0 0 ... 1 1 1]\n"
     ]
    },
    {
     "name": "stderr",
     "output_type": "stream",
     "text": [
      "C:\\Users\\Susan\\Anaconda3\\lib\\site-packages\\sklearn\\ensemble\\weight_boosting.py:29: DeprecationWarning: numpy.core.umath_tests is an internal NumPy module and should not be imported. It will be removed in a future NumPy release.\n",
      "  from numpy.core.umath_tests import inner1d\n"
     ]
    }
   ],
   "source": [
    "if data.shape[0] > 100:\n",
    "    # RandomForest\n",
    "    from sklearn.ensemble import RandomForestClassifier\n",
    "    RF = RandomForestClassifier()\n",
    "    RF = RF.fit(tr_data, tr_ans)\n",
    "    y_pred = RF.predict(ts_data)\n",
    "    \n",
    "else :\n",
    "    # Bagging\n",
    "    from sklearn.ensemble import BaggingClassifier\n",
    "    BC = BaggingClassifier(n_estimators=50)\n",
    "    BC = BC.fit(tr_data, tr_ans)\n",
    "    y_pred = BC.predict(ts_data)\n",
    "    \n",
    "# End of Demo"
   ]
  },
  {
   "cell_type": "markdown",
   "metadata": {},
   "source": [
    "## Check Accuracy\n",
    "\n",
    "Only for check accuracy"
   ]
  },
  {
   "cell_type": "code",
   "execution_count": 7,
   "metadata": {},
   "outputs": [
    {
     "name": "stdout",
     "output_type": "stream",
     "text": [
      "0.99153194765204\n"
     ]
    }
   ],
   "source": [
    "def accuracy(real, predict):\n",
    "    return sum(real == predict) / float(real.shape[0])\n",
    "\n",
    "tk_window = tkinter.Tk()\n",
    "cwd = os.getcwd()\n",
    "ts_ans = pd.read_csv(askopenfilename(title='Choose your test answer'))\n",
    "ts_ans = ts_ans.iloc[:, 0]\n",
    "tk_window.destroy()\n",
    "\n",
    "print(accuracy(ts_ans, y_pred))"
   ]
  },
  {
   "cell_type": "code",
   "execution_count": 8,
   "metadata": {},
   "outputs": [
    {
     "name": "stdout",
     "output_type": "stream",
     "text": [
      "F-Score: 0.992\n",
      "Accuracy:  0.99153194765204\n",
      "             precision    recall  f1-score   support\n",
      "\n",
      "          0       0.98      0.99      0.98       331\n",
      "          1       1.00      0.99      0.99       968\n",
      "\n",
      "avg / total       0.99      0.99      0.99      1299\n",
      "\n"
     ]
    },
    {
     "data": {
      "image/png": "[encoded data removed]",
      "text/plain": [
       "<Figure size 432x288 with 2 Axes>"
      ]
     },
     "metadata": {
      "needs_background": "light"
     },
     "output_type": "display_data"
    }
   ],
   "source": [
    "p,r,f,s = precision_recall_fscore_support(ts_ans, y_pred, average='micro')\n",
    "print(\"F-Score:\", round(f,3))\n",
    "print(\"Accuracy: \", accuracy_score(ts_ans, y_pred))\n",
    "\n",
    "print(classification_report(ts_ans, y_pred))\n",
    "\n",
    "labels = sorted(ts_ans.unique())\n",
    "chart = pd.DataFrame(confusion_matrix(ts_ans, y_pred),\n",
    "                  columns=labels, index=labels)\n",
    "sns.set_context('talk')\n",
    "ax = sns.heatmap(chart, annot=True, fmt='d', xticklabels=True, yticklabels=True)\n",
    "ax.set_xticklabels(labels)\n",
    "ax.set_yticklabels(labels)\n",
    "ax.set_ylabel('Prediction')\n",
    "ax.set_xlabel('Ground Truth');"
   ]
  }
 ],
 "metadata": {
  "kernelspec": {
   "display_name": "Python 3",
   "language": "python",
   "name": "python3"
  },
  "language_info": {
   "codemirror_mode": {
    "name": "ipython",
    "version": 3
   },
   "file_extension": ".py",
   "mimetype": "text/x-python",
   "name": "python",
   "nbconvert_exporter": "python",
   "pygments_lexer": "ipython3",
   "version": "3.7.0"
  }
 },
 "nbformat": 4,
 "nbformat_minor": 2
}
