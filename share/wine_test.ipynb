{
 "cells": [
  {
   "cell_type": "code",
   "execution_count": 1,
   "metadata": {},
   "outputs": [],
   "source": [
    "# Base Module of data processing\n",
    "import numpy as np\n",
    "import pandas as pd\n",
    "import seaborn as sns\n",
    "import matplotlib.pyplot as plt\n",
    "import glob\n",
    "\n",
    "from scipy.spatial.distance import pdist, squareform\n",
    "from sklearn.model_selection import cross_val_score\n",
    "from sklearn.metrics import confusion_matrix\n",
    "from sklearn.metrics import classification_report\n",
    "from sklearn.metrics import accuracy_score\n",
    "from sklearn.metrics import precision_recall_fscore_support\n",
    "from sklearn.model_selection import train_test_split\n",
    "from sklearn.externals import joblib"
   ]
  },
  {
   "cell_type": "code",
   "execution_count": 2,
   "metadata": {},
   "outputs": [],
   "source": [
    "from sklearn.tree import DecisionTreeClassifier\n",
    "from sklearn.ensemble import RandomForestClassifier\n",
    "from sklearn.linear_model import LogisticRegression"
   ]
  },
  {
   "cell_type": "code",
   "execution_count": 3,
   "metadata": {},
   "outputs": [],
   "source": [
    "# Set path\n",
    "path_mac = \"../../data/\"\n",
    "file_path = path_mac + \"Wine_Quality_Data.csv\"\n",
    "# Get data\n",
    "data=pd.read_csv(file_path, sep=',')\n",
    "# Split data & y_data\n",
    "x_data = data.drop(data.columns[len(data.columns)-1], axis=1)\n",
    "y_data = data[\"color\"].map({'red':0, \"white\":1})"
   ]
  },
  {
   "cell_type": "code",
   "execution_count": 4,
   "metadata": {},
   "outputs": [],
   "source": [
    "# Split as train data and test data\n",
    "x_train, x_test, y_train, y_test = train_test_split(x_data, y_data, test_size=0.3, shuffle=True)"
   ]
  },
  {
   "cell_type": "code",
   "execution_count": 5,
   "metadata": {},
   "outputs": [
    {
     "name": "stdout",
     "output_type": "stream",
     "text": [
      "LogisticRegression(C=1.0, class_weight=None, dual=False, fit_intercept=True,\n",
      "          intercept_scaling=1, max_iter=100, multi_class='ovr', n_jobs=1,\n",
      "          penalty='l2', random_state=None, solver='liblinear', tol=0.0001,\n",
      "          verbose=0, warm_start=False)\n"
     ]
    }
   ],
   "source": [
    "# Train\n",
    "model = LogisticRegression()\n",
    "model = model.fit(x_train, y_train)\n",
    "print(model)"
   ]
  },
  {
   "cell_type": "code",
   "execution_count": 6,
   "metadata": {},
   "outputs": [
    {
     "name": "stdout",
     "output_type": "stream",
     "text": [
      "F-Score: 0.979\n",
      "Accuracy:  0.978974358974359\n",
      "             precision    recall  f1-score   support\n",
      "\n",
      "          0       0.96      0.95      0.96       495\n",
      "          1       0.98      0.99      0.99      1455\n",
      "\n",
      "avg / total       0.98      0.98      0.98      1950\n",
      "\n"
     ]
    },
    {
     "data": {
      "image/png": "[encoded data removed]",
      "text/plain": [
       "<Figure size 432x288 with 2 Axes>"
      ]
     },
     "metadata": {
      "needs_background": "light"
     },
     "output_type": "display_data"
    }
   ],
   "source": [
    "# Test\n",
    "prediction = model.predict(x_test)\n",
    "# Check Result\n",
    "p,r,f,s = precision_recall_fscore_support(y_test, prediction, average='micro')\n",
    "print(\"F-Score:\", round(f,3))\n",
    "print(\"Accuracy: \", accuracy_score(y_test, prediction))\n",
    "\n",
    "print(classification_report(y_test, prediction))\n",
    "\n",
    "labels = sorted(y_test.unique())\n",
    "chart = pd.DataFrame(confusion_matrix(y_test, prediction),\n",
    "                  columns=labels, index=labels)\n",
    "sns.set_context('talk')\n",
    "ax = sns.heatmap(chart, annot=True, fmt='d', xticklabels=True, yticklabels=True)\n",
    "ax.set_xticklabels(labels)\n",
    "ax.set_yticklabels(labels[::-1])\n",
    "ax.set_ylabel('Prediction')\n",
    "ax.set_xlabel('Ground Truth');"
   ]
  },
  {
   "cell_type": "code",
   "execution_count": 13,
   "metadata": {},
   "outputs": [
    {
     "data": {
      "text/plain": [
       "0.9828436268016015"
      ]
     },
     "execution_count": 13,
     "metadata": {},
     "output_type": "execute_result"
    }
   ],
   "source": [
    "model = LogisticRegression()\n",
    "result = cross_val_score(model, x_train, y_train, cv=25)\n",
    "np.average(result)"
   ]
  },
  {
   "cell_type": "code",
   "execution_count": 8,
   "metadata": {},
   "outputs": [
    {
     "data": {
      "text/plain": [
       "RandomForestClassifier(bootstrap=True, class_weight=None, criterion='gini',\n",
       "            max_depth=None, max_features='auto', max_leaf_nodes=None,\n",
       "            min_impurity_decrease=0.0, min_impurity_split=None,\n",
       "            min_samples_leaf=1, min_samples_split=2,\n",
       "            min_weight_fraction_leaf=0.0, n_estimators=10, n_jobs=1,\n",
       "            oob_score=False, random_state=None, verbose=0,\n",
       "            warm_start=False)"
      ]
     },
     "execution_count": 8,
     "metadata": {},
     "output_type": "execute_result"
    }
   ],
   "source": [
    "rfc = RandomForestClassifier()\n",
    "rfc.fit(x_train, y_train)"
   ]
  },
  {
   "cell_type": "code",
   "execution_count": 9,
   "metadata": {},
   "outputs": [
    {
     "name": "stdout",
     "output_type": "stream",
     "text": [
      "F-Score: 0.994\n",
      "Accuracy:  0.9943589743589744\n",
      "             precision    recall  f1-score   support\n",
      "\n",
      "          0       0.99      0.99      0.99       495\n",
      "          1       1.00      1.00      1.00      1455\n",
      "\n",
      "avg / total       0.99      0.99      0.99      1950\n",
      "\n"
     ]
    },
    {
     "data": {
      "image/png": "[encoded data removed]",
      "text/plain": [
       "<Figure size 432x288 with 2 Axes>"
      ]
     },
     "metadata": {
      "needs_background": "light"
     },
     "output_type": "display_data"
    }
   ],
   "source": [
    "# Test\n",
    "prediction = rfc.predict(x_test)\n",
    "# Check Result\n",
    "p,r,f,s = precision_recall_fscore_support(y_test, prediction, average='micro')\n",
    "print(\"F-Score:\", round(f,3))\n",
    "print(\"Accuracy: \", accuracy_score(y_test, prediction))\n",
    "\n",
    "print(classification_report(y_test, prediction))\n",
    "\n",
    "labels = sorted(y_test.unique())\n",
    "chart = pd.DataFrame(confusion_matrix(y_test, prediction),\n",
    "                  columns=labels, index=labels)\n",
    "sns.set_context('talk')\n",
    "ax = sns.heatmap(chart, annot=True, fmt='d', xticklabels=True, yticklabels=True)\n",
    "ax.set_xticklabels(labels)\n",
    "ax.set_yticklabels(labels[::-1])\n",
    "ax.set_ylabel('Prediction')\n",
    "ax.set_xlabel('Ground Truth');"
   ]
  },
  {
   "cell_type": "code",
   "execution_count": 14,
   "metadata": {},
   "outputs": [
    {
     "data": {
      "text/plain": [
       "0.9934016567618598"
      ]
     },
     "execution_count": 14,
     "metadata": {},
     "output_type": "execute_result"
    }
   ],
   "source": [
    "rfc = RandomForestClassifier()\n",
    "result = cross_val_score(rfc, x_train, y_train, cv=25)\n",
    "np.average(result)"
   ]
  },
  {
   "cell_type": "code",
   "execution_count": null,
   "metadata": {},
   "outputs": [],
   "source": []
  }
 ],
 "metadata": {
  "kernelspec": {
   "display_name": "Python 3",
   "language": "python",
   "name": "python3"
  },
  "language_info": {
   "codemirror_mode": {
    "name": "ipython",
    "version": 3
   },
   "file_extension": ".py",
   "mimetype": "text/x-python",
   "name": "python",
   "nbconvert_exporter": "python",
   "pygments_lexer": "ipython3",
   "version": "3.5.0"
  }
 },
 "nbformat": 4,
 "nbformat_minor": 2
}
